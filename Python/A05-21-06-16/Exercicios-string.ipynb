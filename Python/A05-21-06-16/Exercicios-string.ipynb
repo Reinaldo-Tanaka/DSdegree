{
 "cells": [
  {
   "cell_type": "markdown",
   "id": "f54a4b3f",
   "metadata": {},
   "source": [
    "# Questão #1\n",
    "## Enunciado\n",
    "Faça um programa que peça para o usuário digitar uma palavra e imprima cada letra em uma linha.\n",
    "\n"
   ]
  },
  {
   "cell_type": "code",
   "execution_count": 1,
   "id": "cbb7060c",
   "metadata": {},
   "outputs": [
    {
     "name": "stdout",
     "output_type": "stream",
     "text": [
      "Por favor, digite uma palavra: Abelha\n",
      "A\n",
      "b\n",
      "e\n",
      "l\n",
      "h\n",
      "a\n"
     ]
    }
   ],
   "source": [
    "palavra = input('Por favor, digite uma palavra: ')\n",
    "\n",
    "for letra in palavra :\n",
    "    print(letra)\n"
   ]
  },
  {
   "cell_type": "markdown",
   "id": "296a5374",
   "metadata": {},
   "source": [
    "# Questão #2\n",
    "## Enunciado\n",
    "Faça um programa que pede para o usuário digitar uma palavra e cria uma nova string igual, copiando letra por letra a palavra digitada, depois imprima a nova string.\n",
    "\n"
   ]
  },
  {
   "cell_type": "code",
   "execution_count": 2,
   "id": "dc1f70d8",
   "metadata": {},
   "outputs": [
    {
     "name": "stdout",
     "output_type": "stream",
     "text": [
      "Por favor, insira uma palavra: Arruela\n",
      "Arruela\n"
     ]
    }
   ],
   "source": [
    "palavra = input('Por favor, insira uma palavra: ')\n",
    "\n",
    "nova_palavra = ''\n",
    "for letra in palavra :\n",
    "    nova_palavra = nova_palavra + letra\n",
    "\n",
    "print(nova_palavra)"
   ]
  },
  {
   "cell_type": "markdown",
   "id": "778473c2",
   "metadata": {},
   "source": [
    "# Questão #3\n",
    "## Enunciado\n",
    "Altere o exercício anterior para que a string copiada alterne entre letras maiúsculas e minúsculas.\n",
    "\n",
    "Exemplo: se o usuário digitar \"latex\" o programa deve imprimir \"LaTeX\".\n",
    "\n"
   ]
  },
  {
   "cell_type": "code",
   "execution_count": 3,
   "id": "8760517c",
   "metadata": {},
   "outputs": [
    {
     "name": "stdout",
     "output_type": "stream",
     "text": [
      "Por favor, insira uma palavra: bruaca\n",
      "BrUaCa\n"
     ]
    }
   ],
   "source": [
    "palavra = input('Por favor, insira uma palavra: ')\n",
    "\n",
    "contador = 0\n",
    "nova_palavra = ''\n",
    "for letra in palavra :\n",
    "    if contador % 2 == 0 :\n",
    "        nova_palavra = nova_palavra + letra.upper()\n",
    "    else :\n",
    "        nova_palavra = nova_palavra + letra\n",
    "    contador = contador + 1\n",
    "\n",
    "print(nova_palavra)"
   ]
  },
  {
   "cell_type": "markdown",
   "id": "c74632bd",
   "metadata": {},
   "source": [
    "# Questão #4\n",
    "## Enunciado\n",
    "Faça um programa que pede para o usuário digitar uma palavra e cria uma nova string igual, porém com espaço entre cada letra, depois imprima a nova string:\n",
    "\n",
    "Exemplo: se o usuário digitar \"python\" o programa deve imprimir \"p y t h o n \"\n",
    "\n"
   ]
  },
  {
   "cell_type": "code",
   "execution_count": 4,
   "id": "ac3ea4b5",
   "metadata": {},
   "outputs": [
    {
     "name": "stdout",
     "output_type": "stream",
     "text": [
      "Por favor, insira uma palavra: zureta\n",
      "z u r e t a \n"
     ]
    }
   ],
   "source": [
    "palavra = input('Por favor, insira uma palavra: ')\n",
    "\n",
    "nova_palavra = ''\n",
    "for letra in palavra :\n",
    "    nova_palavra = nova_palavra  + letra + ' '\n",
    "\n",
    "print(nova_palavra)"
   ]
  },
  {
   "cell_type": "markdown",
   "id": "f371684e",
   "metadata": {},
   "source": [
    "# Questão #5\n",
    "## Enunciado\n",
    "Faça uma função que receba uma string e retorne uma nova string substituindo:\n",
    "\n",
    "'a' por '4'\n",
    "\n",
    "'e' por '3'\n",
    "\n",
    "'I' por '1'\n",
    "\n",
    "'t' por '7'\n",
    "\n"
   ]
  },
  {
   "cell_type": "code",
   "execution_count": 5,
   "id": "4328a139",
   "metadata": {},
   "outputs": [
    {
     "name": "stdout",
     "output_type": "stream",
     "text": [
      "Por favor, insira uma palavra: space invaders\n",
      "sp4c3 1nv4d3rs\n"
     ]
    }
   ],
   "source": [
    "palavra = input('Por favor, insira uma palavra: ')\n",
    "\n",
    "nova_palavra = ''\n",
    "for letra in palavra :\n",
    "    if letra == 'a' :\n",
    "        letra = '4'\n",
    "    elif letra == 'e' :\n",
    "        letra = '3'\n",
    "    elif letra == 'i' :\n",
    "        letra = '1'\n",
    "    elif letra == 't' :\n",
    "        letra = '7'\n",
    "    nova_palavra = nova_palavra  + letra\n",
    "\n",
    "print(nova_palavra)"
   ]
  },
  {
   "cell_type": "markdown",
   "id": "f33946bf",
   "metadata": {},
   "source": [
    "# Questão #6\n",
    "## Enunciado\n",
    "Faça uma função que recebe uma string e retorna ela ao contrário.\n",
    "\n",
    "Exemplo: Recebe \"teste\" e retorna \"etset\"."
   ]
  },
  {
   "cell_type": "code",
   "execution_count": 2,
   "id": "e27481bd",
   "metadata": {},
   "outputs": [],
   "source": [
    "def contrario() :\n",
    "    palavra = input('Por favor, qual a palavra quer que fique ao contrário? ')\n",
    "    return(palavra[::-1])"
   ]
  },
  {
   "cell_type": "code",
   "execution_count": 4,
   "id": "ef022abf",
   "metadata": {},
   "outputs": [
    {
     "name": "stdout",
     "output_type": "stream",
     "text": [
      "Por favor, qual a palavra quer que fique ao contrário? 'Ao peh da montanha, jaz o ignobil Jasmim.'\n"
     ]
    },
    {
     "data": {
      "text/plain": [
       "\"'.mimsaJ libongi o zaj ,ahnatnom ad hep oA'\""
      ]
     },
     "execution_count": 4,
     "metadata": {},
     "output_type": "execute_result"
    }
   ],
   "source": [
    "contrario()"
   ]
  },
  {
   "cell_type": "markdown",
   "id": "1b2d8b45",
   "metadata": {},
   "source": [
    "# Questão #7\n",
    "## Enunciado\n",
    "Agora faça uma função que recebe uma palavra e diz se ela é um palíndromo, ou seja, se ela é igual a ela mesma ao contrário.\n",
    "\n",
    "Dica: Use a função do exercício 6.\n",
    "\n"
   ]
  },
  {
   "cell_type": "code",
   "execution_count": 7,
   "id": "68987a11",
   "metadata": {},
   "outputs": [],
   "source": [
    "def palindromo() :\n",
    "    palavra = input('Por favor, qual a palavra quer verificar se é palíndromo? ')\n",
    "    return palavra.lower() == palavra[::-1].lower()"
   ]
  },
  {
   "cell_type": "markdown",
   "id": "d8bf7000",
   "metadata": {},
   "source": [
    "# Questão #8\n",
    "## Enunciado\n",
    "Faça uma função que receba um texto e uma palavra, então verifique se a palavra está no texto, retornando True ou False."
   ]
  },
  {
   "cell_type": "code",
   "execution_count": 8,
   "id": "e0e3a8db",
   "metadata": {},
   "outputs": [],
   "source": [
    "def achando() :\n",
    "    texto = input('Por favor, copie o texto para verificação: ')\n",
    "    palavra = input('Qual palavra deseja verificar? ')\n",
    "    return palavra.lower() in texto.lower()"
   ]
  },
  {
   "cell_type": "markdown",
   "id": "f8b49049",
   "metadata": {},
   "source": [
    "# Questão #9\n",
    "## Enunciado\n",
    "Faça uma função que receba uma string que contém tanto números quanto letras e caracteres especiais, e que separe as letras em uma variável e os números em outra (os caracteres especiais podem ser descartados). Ao final a função deve imprimir as duas variáveis.\n",
    "\n"
   ]
  },
  {
   "cell_type": "code",
   "execution_count": 9,
   "id": "5c0dfa08",
   "metadata": {},
   "outputs": [],
   "source": [
    "def letras_numeros() :\n",
    "    import string\n",
    "\n",
    "    letras = list()\n",
    "    numeros = list()\n",
    "    # Base de comparação para letras e números\n",
    "    complemento = ['á', 'à', 'ã', 'é', 'í', 'ó', 'õ', 'ú', 'ü', 'ç']\n",
    "    lista_letras = list(string.ascii_lowercase) + complemento\n",
    "    lista_numeros = list(string.digits)\n",
    "    texto = input('Qual o texto? ')\n",
    "\n",
    "    for caracter in texto.lower() :\n",
    "        if caracter in lista_letras :\n",
    "            letras.append(caracter)\n",
    "        elif caracter in lista_numeros :\n",
    "            numeros.append(caracter)\n",
    "        else :\n",
    "            pass\n",
    "    return print('As letras são: {} \\nOs números são: {}'.format(letras, numeros))"
   ]
  },
  {
   "cell_type": "code",
   "execution_count": 10,
   "id": "c8da23f6",
   "metadata": {},
   "outputs": [
    {
     "name": "stdout",
     "output_type": "stream",
     "text": [
      "Qual o texto? O ferro ao pescoço era aplicado 1 a 1 aos escravos fujões. Imaginai 1 coleira grossa, com 3 hastes grossas também à direita ou à esquerda, até 12 cm da cabeça e fechada atrás com chave de 30 kg. Pesava, naturalmente, mas era menos castigo que sinal. Escravo que fugia assim, onde quer que andasse, mostrava um reincidente, e com pouco era pegado 10 vezes.\n",
      "As letras são: ['o', 'f', 'e', 'r', 'r', 'o', 'a', 'o', 'p', 'e', 's', 'c', 'o', 'ç', 'o', 'e', 'r', 'a', 'a', 'p', 'l', 'i', 'c', 'a', 'd', 'o', 'a', 'a', 'o', 's', 'e', 's', 'c', 'r', 'a', 'v', 'o', 's', 'f', 'u', 'j', 'õ', 'e', 's', 'i', 'm', 'a', 'g', 'i', 'n', 'a', 'i', 'c', 'o', 'l', 'e', 'i', 'r', 'a', 'g', 'r', 'o', 's', 's', 'a', 'c', 'o', 'm', 'h', 'a', 's', 't', 'e', 's', 'g', 'r', 'o', 's', 's', 'a', 's', 't', 'a', 'm', 'b', 'é', 'm', 'à', 'd', 'i', 'r', 'e', 'i', 't', 'a', 'o', 'u', 'à', 'e', 's', 'q', 'u', 'e', 'r', 'd', 'a', 'a', 't', 'é', 'c', 'm', 'd', 'a', 'c', 'a', 'b', 'e', 'ç', 'a', 'e', 'f', 'e', 'c', 'h', 'a', 'd', 'a', 'a', 't', 'r', 'á', 's', 'c', 'o', 'm', 'c', 'h', 'a', 'v', 'e', 'd', 'e', 'k', 'g', 'p', 'e', 's', 'a', 'v', 'a', 'n', 'a', 't', 'u', 'r', 'a', 'l', 'm', 'e', 'n', 't', 'e', 'm', 'a', 's', 'e', 'r', 'a', 'm', 'e', 'n', 'o', 's', 'c', 'a', 's', 't', 'i', 'g', 'o', 'q', 'u', 'e', 's', 'i', 'n', 'a', 'l', 'e', 's', 'c', 'r', 'a', 'v', 'o', 'q', 'u', 'e', 'f', 'u', 'g', 'i', 'a', 'a', 's', 's', 'i', 'm', 'o', 'n', 'd', 'e', 'q', 'u', 'e', 'r', 'q', 'u', 'e', 'a', 'n', 'd', 'a', 's', 's', 'e', 'm', 'o', 's', 't', 'r', 'a', 'v', 'a', 'u', 'm', 'r', 'e', 'i', 'n', 'c', 'i', 'd', 'e', 'n', 't', 'e', 'e', 'c', 'o', 'm', 'p', 'o', 'u', 'c', 'o', 'e', 'r', 'a', 'p', 'e', 'g', 'a', 'd', 'o', 'v', 'e', 'z', 'e', 's'] \n",
      "Os números são: ['1', '1', '1', '3', '1', '2', '3', '0', '1', '0']\n"
     ]
    }
   ],
   "source": [
    "letras_numeros()"
   ]
  },
  {
   "cell_type": "markdown",
   "id": "ffe18c9d",
   "metadata": {},
   "source": [
    "# Questão #10\n",
    "## Enunciado\n",
    "Desafio - Faça uma função que receba uma string e uma letra e:\n",
    "\n",
    "a. imprima quantas vezes a letra aparece na string;\n",
    "\n",
    "b. imprima todas as posições em que a letra aparece na string;\n",
    "\n",
    "c. retorne a distância entre a primeira e a última aparição dessa letra na string.\n",
    "\n"
   ]
  },
  {
   "cell_type": "code",
   "execution_count": 15,
   "id": "c229be93",
   "metadata": {},
   "outputs": [],
   "source": [
    "def posicoes(texto, letra) :\n",
    "    # Deixar todos caracteres minúsculos:\n",
    "    texto = texto.lower()\n",
    "    lista_posicao = list()\n",
    "    aparicoes = 0\n",
    "    posicao = 0\n",
    "    for caracter in texto :\n",
    "        if caracter == letra :\n",
    "            aparicoes = aparicoes + 1\n",
    "            lista_posicao.append(posicao)\n",
    "        posicao = posicao + 1\n",
    "    print('A letra \\\"{}\\\" aparece {} vezes.'.format(letra, aparicoes))\n",
    "    print('A letra \\\"{}\\\" aparece nas posições {}.'.format(letra, lista_posicao))\n",
    "    return (lista_posicao[-1] - lista_posicao[0])"
   ]
  },
  {
   "cell_type": "code",
   "execution_count": 16,
   "id": "0466502c",
   "metadata": {},
   "outputs": [
    {
     "name": "stdout",
     "output_type": "stream",
     "text": [
      "A letra \"a\" aparece 229 vezes.\n",
      "A letra \"a\" aparece nas posições [0, 6, 37, 39, 67, 73, 93, 107, 114, 116, 140, 145, 172, 182, 208, 216, 219, 222, 228, 234, 236, 245, 252, 260, 266, 268, 271, 274, 292, 299, 305, 313, 329, 331, 334, 339, 346, 359, 371, 373, 384, 386, 394, 402, 408, 410, 412, 419, 422, 426, 436, 439, 471, 474, 480, 492, 506, 516, 552, 554, 566, 568, 571, 581, 587, 589, 600, 617, 626, 632, 642, 650, 656, 665, 668, 675, 677, 681, 684, 696, 704, 706, 722, 725, 728, 748, 753, 782, 789, 798, 800, 810, 814, 820, 823, 829, 834, 857, 859, 870, 883, 885, 890, 896, 900, 908, 923, 927, 938, 945, 955, 966, 970, 984, 998, 1001, 1012, 1015, 1019, 1027, 1029, 1031, 1043, 1060, 1062, 1066, 1070, 1080, 1085, 1094, 1108, 1116, 1128, 1130, 1151, 1154, 1165, 1167, 1199, 1204, 1240, 1249, 1265, 1270, 1297, 1299, 1303, 1309, 1323, 1327, 1332, 1340, 1342, 1345, 1351, 1354, 1356, 1375, 1377, 1383, 1385, 1388, 1392, 1395, 1397, 1402, 1408, 1415, 1417, 1421, 1434, 1438, 1441, 1443, 1454, 1456, 1467, 1473, 1503, 1506, 1510, 1536, 1546, 1555, 1557, 1559, 1561, 1584, 1595, 1600, 1608, 1620, 1627, 1639, 1643, 1650, 1669, 1681, 1683, 1689, 1693, 1701, 1709, 1721, 1723, 1725, 1748, 1753, 1757, 1762, 1780, 1784, 1786, 1789, 1791, 1799, 1804, 1808, 1812, 1824, 1827, 1847, 1850, 1855, 1867, 1871, 1882, 1889, 1892].\n",
      "1892\n"
     ]
    }
   ],
   "source": [
    "machado = 'A ESCRAVIDÃO levou consigo ofícios e aparelhos, como terá sucedido a outras instituições sociais. Não cito alguns aparelhos senão por se ligarem a certo ofício. Um deles era o ferro ao pescoço, outro o ferro ao pé; havia também a máscara de folha-de-flandres. A máscara fazia perder o vício da embriaguez aos escravos, por lhes tapar a boca. Tinha só três buracos, dous para ver, um para respirar, e era fechada atrás da cabeça por um cadeado. Com o vício de beber, perdiam a tentação de furtar, porque geralmente era dos vinténs do senhor que eles tiravam com que matar a sede, e aí ficavam dous pecados extintos, e a sobriedade e a honestidade certas. Era grotesca tal máscara, mas a ordem social e humana nem sempre se alcança sem o grotesco, e alguma vez o cruel. Os funileiros as tinham penduradas, à venda, na porta das lojas. Mas não cuidemos de máscaras.\\\n",
    "O ferro ao pescoço era aplicado 1 a 1 aos escravos fujões. Imaginai 1 coleira grossa, com 3 hastes grossas também à direita ou à esquerda, até 12 cm da cabeça e fechada atrás com chave de 30 kg. Pesava, naturalmente, mas era menos castigo que sinal. Escravo que fugia assim, onde quer que andasse, mostrava um reincidente, e com pouco era pegado 10 vezes.\\\n",
    "Há meio século, os escravos fugiam com frequência. Eram muitos, e nem todos gostavam da escravidão. Sucedia ocasionalmente apanharem pancada, e nem todos gostavam de apanhar pancada. Grande parte era apenas repreendida; havia alguém de casa que servia de padrinho, e o mesmo dono não era mau; além disso, o sentimento da propriedade moderava a ação, porque dinheiro também dói. A fuga repetia-se, entretanto. Casos houve, ainda que raros, em que o escravo de contrabando, apenas comprado no Valongo, deitava a correr, sem conhecer as ruas da cidade. Dos que seguiam para casa, não raro, apenas ladinos, pediam ao senhor que lhes marcasse aluguel, e iam ganhá-lo fora, quitandando.'\n",
    "\n",
    "letra = 'a'\n",
    "resultado = posicoes(machado, letra)\n",
    "print(resultado)"
   ]
  },
  {
   "cell_type": "markdown",
   "id": "4e176d4a",
   "metadata": {},
   "source": [
    "# Questão #11\n",
    "## Enunciado\n",
    "Super Desafio! - faça uma função que criptografa uma mensagem substituindo cada letra pela letra oposta do dicionário:\n",
    "\n",
    "'a' por 'z'\n",
    "\n",
    "'b' por 'y'\n",
    "\n",
    "'c' por 'x'\n",
    "\n"
   ]
  },
  {
   "cell_type": "code",
   "execution_count": 17,
   "id": "0064e051",
   "metadata": {},
   "outputs": [],
   "source": [
    "def gera_cript(texto) :\n",
    "\n",
    "    import string\n",
    "    # Lista auxiliar para criar o dicionário de criptografia\n",
    "    complemento = ['á', 'à', 'ã', 'é', 'í', 'ó', 'õ', 'ú', 'ü', 'ç']\n",
    "    lista_letras = list(string.ascii_lowercase)\n",
    "\n",
    "    # Criação dicionário de criptografia\n",
    "    criptografia = dict()\n",
    "    var_aux = -1\n",
    "    for letra in lista_letras :\n",
    "        criptografia[letra] = lista_letras[var_aux]\n",
    "        var_aux = var_aux - 1\n",
    "\n",
    "    # Retirando caracteres próprios do Português\n",
    "    texto = texto.lower()\n",
    "    texto_modificado = ''\n",
    "    for letra in texto :\n",
    "        if (letra == 'á' or letra == 'à' or letra == 'ã') :\n",
    "            letra = 'a'\n",
    "        elif letra == 'é' :\n",
    "            letra = 'e'\n",
    "        elif letra == 'í' :\n",
    "            letra = 'i'\n",
    "        elif (letra == 'ó' or letra == 'õ') :\n",
    "            letra = 'o'\n",
    "        elif (letra == 'ú' or letra == 'ü') :\n",
    "            letra = 'u'\n",
    "        elif letra == 'ç' :\n",
    "            letra = 'c'\n",
    "        else :\n",
    "            pass\n",
    "        texto_modificado = texto_modificado + letra\n",
    "\n",
    "    # Encriptando...\n",
    "    texto_crip = ''\n",
    "    for letra in texto_modificado :\n",
    "        if letra in lista_letras :\n",
    "            letra = criptografia[letra]\n",
    "        texto_crip = texto_crip + letra\n",
    "    return texto_crip"
   ]
  },
  {
   "cell_type": "code",
   "execution_count": 18,
   "id": "1ed17df3",
   "metadata": {},
   "outputs": [
    {
     "data": {
      "text/plain": [
       "'z vhxizerwzl ovelf xlmhrtl lurxrlh v zkzivoslh, xlnl gviz hfxvwrwl z lfgizh rmhgrgfrxlvh hlxrzrh. mzl xrgl zotfmh zkzivoslh hvmzl kli hv ortzivn z xvigl lurxrl. fn wvovh viz l uviil zl kvhxlxl, lfgil l uviil zl kv; szerz gznyvn z nzhxziz wv ulosz-wv-uozmwivh. z nzhxziz uzarz kviwvi l erxrl wz vnyirztfva zlh vhxizelh, kli osvh gzkzi z ylxz. grmsz hl giêh yfizxlh, wlfh kziz evi, fn kziz ivhkrizi, v viz uvxszwz zgizh wz xzyvxz kli fn xzwvzwl. xln l erxrl wv yvyvi, kviwrzn z gvmgzxzl wv ufigzi, klijfv tvizonvmgv viz wlh ermgvmh wl hvmsli jfv vovh grizezn xln jfv nzgzi z hvwv, v zr urxzezn wlfh kvxzwlh vcgrmglh, v z hlyirvwzwv v z slmvhgrwzwv xvigzh. viz tilgvhxz gzo nzhxziz, nzh z liwvn hlxrzo v sfnzmz mvn hvnkiv hv zoxzmxz hvn l tilgvhxl, v zotfnz eva l xifvo. lh ufmrovrilh zh grmszn kvmwfizwzh, z evmwz, mz kligz wzh olqzh. nzh mzl xfrwvnlh wv nzhxzizh.l uviil zl kvhxlxl viz zkorxzwl 1 z 1 zlh vhxizelh ufqlvh. rnztrmzr 1 xlovriz tilhhz, xln 3 szhgvh tilhhzh gznyvn z wrivrgz lf z vhjfviwz, zgv 12 xn wz xzyvxz v uvxszwz zgizh xln xszev wv 30 pt. kvhzez, mzgfizonvmgv, nzh viz nvmlh xzhgrtl jfv hrmzo. vhxizel jfv uftrz zhhrn, lmwv jfvi jfv zmwzhhv, nlhgizez fn ivrmxrwvmgv, v xln klfxl viz kvtzwl 10 evavh.sz nvrl hvxfol, lh vhxizelh uftrzn xln uivjfêmxrz. vizn nfrglh, v mvn glwlh tlhgzezn wz vhxizerwzl. hfxvwrz lxzhrlmzonvmgv zkzmszivn kzmxzwz, v mvn glwlh tlhgzezn wv zkzmszi kzmxzwz. tizmwv kzigv viz zkvmzh ivkivvmwrwz; szerz zotfvn wv xzhz jfv hvierz wv kzwirmsl, v l nvhnl wlml mzl viz nzf; zovn wrhhl, l hvmgrnvmgl wz kilkirvwzwv nlwvizez z zxzl, klijfv wrmsvril gznyvn wlr. z uftz ivkvgrz-hv, vmgivgzmgl. xzhlh slfev, zrmwz jfv izilh, vn jfv l vhxizel wv xlmgizyzmwl, zkvmzh xlnkizwl ml ezolmtl, wvrgzez z xliivi, hvn xlmsvxvi zh ifzh wz xrwzwv. wlh jfv hvtfrzn kziz xzhz, mzl izil, zkvmzh ozwrmlh, kvwrzn zl hvmsli jfv osvh nzixzhhv zoftfvo, v rzn tzmsz-ol uliz, jfrgzmwzmwl.'"
      ]
     },
     "execution_count": 18,
     "metadata": {},
     "output_type": "execute_result"
    }
   ],
   "source": [
    "gera_cript(machado)"
   ]
  },
  {
   "cell_type": "code",
   "execution_count": null,
   "id": "091674bd",
   "metadata": {},
   "outputs": [],
   "source": []
  }
 ],
 "metadata": {
  "kernelspec": {
   "display_name": "Python 3",
   "language": "python",
   "name": "python3"
  },
  "language_info": {
   "codemirror_mode": {
    "name": "ipython",
    "version": 3
   },
   "file_extension": ".py",
   "mimetype": "text/x-python",
   "name": "python",
   "nbconvert_exporter": "python",
   "pygments_lexer": "ipython3",
   "version": "3.8.8"
  }
 },
 "nbformat": 4,
 "nbformat_minor": 5
}

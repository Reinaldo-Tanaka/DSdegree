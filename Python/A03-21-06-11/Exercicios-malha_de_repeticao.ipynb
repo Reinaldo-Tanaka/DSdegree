{
 "cells": [
  {
   "cell_type": "markdown",
   "id": "17d5bdf6",
   "metadata": {},
   "source": [
    "# Questão #1\n",
    "## Enunciado\n",
    "Faça um programa que peça ao usuário um número e imprima todos os números de um até o número dado.\n",
    "\n",
    "Exemplo:\n",
    "\n",
    "digite: 5\n",
    "\n",
    "imprime: 1 2 3 4 5\n",
    "\n"
   ]
  },
  {
   "cell_type": "code",
   "execution_count": 1,
   "id": "e0b15731",
   "metadata": {},
   "outputs": [
    {
     "name": "stdout",
     "output_type": "stream",
     "text": [
      "Por favor, qual o valor deseja? 5\n",
      "1\n",
      "2\n",
      "3\n",
      "4\n",
      "5\n"
     ]
    }
   ],
   "source": [
    "numero = int(input('Por favor, qual o valor deseja? '))\n",
    "\n",
    "contador = 1\n",
    "while contador <= numero :\n",
    "    print(contador)\n",
    "    contador = contador + 1\n"
   ]
  },
  {
   "cell_type": "markdown",
   "id": "c33feb1a",
   "metadata": {},
   "source": [
    "# Questão #2\n",
    "## Enunciado\n",
    "Peça ao usuário para digitar um número e imprima o fatorial de n.\n",
    "\n"
   ]
  },
  {
   "cell_type": "code",
   "execution_count": 2,
   "id": "643b4f85",
   "metadata": {},
   "outputs": [
    {
     "name": "stdout",
     "output_type": "stream",
     "text": [
      "Por favor, qual o número que deseja o fatorial? 5\n",
      "O valor de 5! é 120.\n"
     ]
    }
   ],
   "source": [
    "numero = int(input('Por favor, qual o número que deseja o fatorial? '))\n",
    "\n",
    "contador = 1\n",
    "fatorial = 1\n",
    "\n",
    "while contador <= numero :\n",
    "    fatorial = contador * fatorial\n",
    "    contador = contador + 1\n",
    "print('O valor de {}! é {}.'.format(numero, fatorial))"
   ]
  },
  {
   "cell_type": "markdown",
   "id": "9fcaf783",
   "metadata": {},
   "source": [
    "# Questão #3\n",
    "## Enunciado\n",
    "Peça ao usuário para digitar um número N e some todos os números de 1 a N utilizando o laço de repetição while."
   ]
  },
  {
   "cell_type": "code",
   "execution_count": 3,
   "id": "43d361be",
   "metadata": {},
   "outputs": [
    {
     "name": "stdout",
     "output_type": "stream",
     "text": [
      "Qual o número que deseja utilizar neste somatório? 5\n",
      "O valor de todos números de 1 a 5 é 15.\n"
     ]
    }
   ],
   "source": [
    "numero = int(input('Qual o número que deseja utilizar neste somatório? '))\n",
    "\n",
    "contador = 1\n",
    "somatorio = 0\n",
    "\n",
    "while contador <= numero :\n",
    "    somatorio = somatorio + contador\n",
    "    contador = contador + 1\n",
    "\n",
    "print('O valor de todos números de 1 a {} é {}.'.format(numero, somatorio))"
   ]
  },
  {
   "cell_type": "markdown",
   "id": "a1fc4ea1",
   "metadata": {},
   "source": [
    "# Questão #4\n",
    "## Enunciado\n",
    "Faça um programa que imprima a tabuada do 9 (de 9x1 a 9x10) usando loops.\n",
    "\n"
   ]
  },
  {
   "cell_type": "code",
   "execution_count": 4,
   "id": "91cd4aa8",
   "metadata": {},
   "outputs": [
    {
     "name": "stdout",
     "output_type": "stream",
     "text": [
      "Tabuada do NOVE!!!\n",
      "9 x 1 = 9\n",
      "9 x 2 = 18\n",
      "9 x 3 = 27\n",
      "9 x 4 = 36\n",
      "9 x 5 = 45\n",
      "9 x 6 = 54\n",
      "9 x 7 = 63\n",
      "9 x 8 = 72\n",
      "9 x 9 = 81\n",
      "9 x 10 = 90\n"
     ]
    }
   ],
   "source": [
    "print('Tabuada do NOVE!!!')\n",
    "\n",
    "contador = 1\n",
    "\n",
    "while contador <= 10 :\n",
    "    print('9 x {} = {}'.format(contador, contador*9))\n",
    "    contador = contador + 1"
   ]
  },
  {
   "cell_type": "markdown",
   "id": "2e144d8e",
   "metadata": {},
   "source": [
    "# Questão #5\n",
    "## Enunciado\n",
    "Faça um programa que recebe um número inteiro do usuário e imprime na tela a quantidade de divisores desse número e quais são eles.\n",
    "\n"
   ]
  },
  {
   "cell_type": "code",
   "execution_count": 5,
   "id": "f995ad87",
   "metadata": {},
   "outputs": [
    {
     "name": "stdout",
     "output_type": "stream",
     "text": [
      "Qual número deseja verificar os divisores? 100\n",
      "O número 100 é divisível por 1.\n",
      "O número 100 é divisível por 2.\n",
      "O número 100 é divisível por 4.\n",
      "O número 100 é divisível por 5.\n",
      "O número 100 é divisível por 10.\n",
      "O número 100 é divisível por 20.\n",
      "O número 100 é divisível por 25.\n",
      "O número 100 é divisível por 50.\n",
      "O número 100 é divisível por 100.\n",
      "\n",
      "Serão no total 9 divisores de 100.\n"
     ]
    }
   ],
   "source": [
    "numero = int(input('Qual número deseja verificar os divisores? '))\n",
    "\n",
    "contador = 1\n",
    "divisores = 0\n",
    "while contador <= numero :\n",
    "    if (numero % contador == 0) :\n",
    "        print('O número {} é divisível por {}.'.format(numero, contador))\n",
    "        divisores = divisores + 1\n",
    "    contador = contador + 1\n",
    "\n",
    "print('\\nSerão no total {} divisores de {}.'.format(divisores, numero))\n",
    "\n",
    "\n",
    "### Nota: Este programa consegue extrair um número primo!!!!! ###"
   ]
  },
  {
   "cell_type": "markdown",
   "id": "2f897165",
   "metadata": {},
   "source": [
    "# Questão #6\n",
    "# Enunciado\n",
    "Faça um programa, usando loops, que peça para um usuário digitar um número e que só finaliza quando o usuário digitar 0. Ao final imprima a soma de todos os números digitados.\n",
    "\n"
   ]
  },
  {
   "cell_type": "code",
   "execution_count": 7,
   "id": "83c4a850",
   "metadata": {},
   "outputs": [
    {
     "name": "stdout",
     "output_type": "stream",
     "text": [
      "Qual o valor inicial? 1\n",
      "Qual valor a adicionar? 2\n",
      "\n",
      "Adicionando-se 2.0 a 1.0: \n",
      "Qual valor a adicionar? 3\n",
      "\n",
      "Adicionando-se 3.0 a 3.0: \n",
      "Qual valor a adicionar? 0\n",
      "\n",
      "Adicionando-se 0.0 a 6.0: \n",
      "O valor total somado é de 6.0\n"
     ]
    }
   ],
   "source": [
    "valor = float(input('Qual o valor inicial? '))\n",
    "\n",
    "total = valor\n",
    "while valor != 0 :\n",
    "    valor = float(input('Qual valor a adicionar? '))\n",
    "    print('\\nAdicionando-se {} a {}: '.format(valor, total))\n",
    "    total = total + valor\n",
    "\n",
    "print('O valor total somado é de', total)"
   ]
  },
  {
   "cell_type": "code",
   "execution_count": 8,
   "id": "4f26d065",
   "metadata": {},
   "outputs": [
    {
     "name": "stdout",
     "output_type": "stream",
     "text": [
      "Qual valor a adicionar? 12\n",
      "Adicionando-se 12.0 a 0: \n",
      "Qual valor a adicionar? 12\n",
      "Adicionando-se 12.0 a 12.0: \n",
      "Qual valor a adicionar? 0\n",
      "Adicionando-se 0.0 a 24.0: \n",
      "\n",
      "O valor total somado é de 24.0\n"
     ]
    }
   ],
   "source": [
    "# Ou deste modo também!\n",
    "\n",
    "total = 0\n",
    "valor = ''\n",
    "\n",
    "while valor != 0 :\n",
    "    valor = float(input('Qual valor a adicionar? '))\n",
    "    print('Adicionando-se {} a {}: '.format(valor, total))\n",
    "    total = total + valor\n",
    "\n",
    "print('\\nO valor total somado é de', total)"
   ]
  },
  {
   "cell_type": "markdown",
   "id": "aaac8c61",
   "metadata": {},
   "source": [
    "# Questão #7\n",
    "## Enunciado\n",
    "Faça um programa que sorteia um número N e peça para o usuário adivinhar o número sorteado. A cada resposta errada, o seu programa deve imprimir um aviso dizendo que a resposta está errada e pedir novamente uma resposta ao usuário.\n",
    "\n",
    "Para a realização desse exercício, utilize alguma função da biblioteca random (e.g. randint()).\n",
    "\n"
   ]
  },
  {
   "cell_type": "code",
   "execution_count": 10,
   "id": "9fa60dd5",
   "metadata": {},
   "outputs": [
    {
     "name": "stdout",
     "output_type": "stream",
     "text": [
      "48\n",
      "Qual o valor de N? (de 0 a 100)3\n",
      "A resposta está errada.... Tente novamente!\n",
      "Qual o valor de N? (de 0 a 100)2\n",
      "A resposta está errada.... Tente novamente!\n",
      "Qual o valor de N? (de 0 a 100)48\n",
      "Parabéns, acertou o valor de N!\n"
     ]
    }
   ],
   "source": [
    "import random\n",
    "\n",
    "n = random.randint(0,100)\n",
    "numero = ''\n",
    "\n",
    "# print(n)\n",
    "while n != numero:\n",
    "    numero = int(input('Qual o valor de N? (de 0 a 100)'))\n",
    "    if numero == n :\n",
    "        print('Parabéns, acertou o valor de N!')\n",
    "    else:\n",
    "        print('A resposta está errada.... Tente novamente!')"
   ]
  },
  {
   "cell_type": "markdown",
   "id": "6dcac2a8",
   "metadata": {},
   "source": [
    "# Questão #8\n",
    "## Enunciado\n",
    "Faça um programa que peça para o usuário digitar a idade, o salário e o sexo de uma pessoa até que as entradas digitadas sejam válidas.\n",
    "\n",
    "a. Idade: entre 0 e 150;\n",
    "\n",
    "b. Salário: maior que 0;\n",
    "\n",
    "c. Sexo: M, F ou Outro.\n",
    "\n"
   ]
  },
  {
   "cell_type": "code",
   "execution_count": 11,
   "id": "ccceb7e6",
   "metadata": {},
   "outputs": [
    {
     "name": "stdout",
     "output_type": "stream",
     "text": [
      "Qual sua idade, por favor? 18\n",
      "Qual seu salário, por favor? 2000\n",
      "\"M\" para Masculino\n",
      "\"F\" para Feminino\n",
      "\"Outro\" para Outro\n",
      "Qual seu sexo, por favor? M\n",
      "O usuário tem 18 anos, ganha R$ 2000.00 e é do sexo: M.\n"
     ]
    }
   ],
   "source": [
    "idade = -1\n",
    "while not (idade > 0 and idade < 150) :\n",
    "    idade = int(input('Qual sua idade, por favor? '))\n",
    "\n",
    "salario = -1\n",
    "while not (salario > 0) :\n",
    "    salario = float(input('Qual seu salário, por favor? '))\n",
    "\n",
    "sexo = ''\n",
    "while not (sexo == 'M' or sexo == 'F' or sexo == 'Outro') :\n",
    "    print('\"M\" para Masculino\\n\"F\" para Feminino\\n\"Outro\" para Outro')\n",
    "    sexo = input('Qual seu sexo, por favor? ')\n",
    "\n",
    "print('O usuário tem {} anos, ganha R$ {:.2f} e é do sexo: {}.'.format(idade, salario, sexo))"
   ]
  },
  {
   "cell_type": "markdown",
   "id": "574909a3",
   "metadata": {},
   "source": [
    "# Questão #9\n",
    "## Enunciado\n",
    "Desafio! - Calcule a soma de até mil termos da série 1 + 1/2 + 1/4 + 1/8 + 1/16 + ...\n",
    "\n",
    "Dica: Use três variáveis:\n",
    "\n",
    "• um contador, que começa em zero;\n",
    "\n",
    "• uma variável para a soma de todos os termos, que também começa em zero;\n",
    "\n",
    "• uma variável para cada termo, que começa em 1 e a cada loop é dividida por 2.\n",
    "\n",
    "A repetição da soma de mil termos pode ser feita com a função while contador < 1000.\n",
    "\n"
   ]
  },
  {
   "cell_type": "code",
   "execution_count": 3,
   "id": "9982edb3",
   "metadata": {},
   "outputs": [
    {
     "name": "stdout",
     "output_type": "stream",
     "text": [
      "A soma de mil termos da série 1 + 1/2 + 1/4 + 1/8 + 1/16 + ... é 2.0\n"
     ]
    }
   ],
   "source": [
    "contador = 0\n",
    "soma = 0\n",
    "somador = 1\n",
    "\n",
    "while contador < 1000:\n",
    "    soma = soma + somador\n",
    "    somador = somador / 2\n",
    "    contador = contador  + 1\n",
    "print('A soma de mil termos da série 1 + 1/2 + 1/4 + 1/8 + 1/16 + ... é', soma)"
   ]
  },
  {
   "cell_type": "markdown",
   "id": "f55f87f8",
   "metadata": {},
   "source": [
    "# Questão #10\n",
    "## Enunciado\n",
    "Super Desafio! - Calcule a soma de mil termos dos inversos dos fatoriais: 1/(1!) + 1/(2!) + 1/(3!) + 1/(4!) + ...\n",
    "\n",
    "Dica: Assim como no exercício anterior use três variáveis: um contador; uma variável para a soma; e uma variável para os termos. Lembre-se de que 4! = 4*3*2*1 que também é igual a 4*3!."
   ]
  },
  {
   "cell_type": "code",
   "execution_count": 11,
   "id": "5087c219",
   "metadata": {},
   "outputs": [
    {
     "name": "stdout",
     "output_type": "stream",
     "text": [
      "1.7182818284590455\n"
     ]
    }
   ],
   "source": [
    "contador = 1 \n",
    "soma = 0 \n",
    "somador = 0\n",
    "\n",
    "while contador <= 1000: \n",
    "    soma = soma + somador # Laço para fazer o fatorial! \n",
    "    contador_fat = 1 \n",
    "    fatorial = 1 \n",
    "    while contador_fat <= contador : \n",
    "        fatorial = contador_fat * fatorial \n",
    "        contador_fat = contador_fat + 1 \n",
    "    somador = 1 / fatorial \n",
    "    contador = contador + 1 \n",
    "print(soma)"
   ]
  },
  {
   "cell_type": "code",
   "execution_count": null,
   "id": "7476f456",
   "metadata": {},
   "outputs": [],
   "source": []
  }
 ],
 "metadata": {
  "kernelspec": {
   "display_name": "Python 3",
   "language": "python",
   "name": "python3"
  },
  "language_info": {
   "codemirror_mode": {
    "name": "ipython",
    "version": 3
   },
   "file_extension": ".py",
   "mimetype": "text/x-python",
   "name": "python",
   "nbconvert_exporter": "python",
   "pygments_lexer": "ipython3",
   "version": "3.8.8"
  }
 },
 "nbformat": 4,
 "nbformat_minor": 5
}

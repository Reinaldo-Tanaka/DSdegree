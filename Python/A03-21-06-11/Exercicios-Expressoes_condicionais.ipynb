{
 "cells": [
  {
   "cell_type": "markdown",
   "id": "115ae4b5",
   "metadata": {},
   "source": [
    "# Questão #1\n",
    "## Enunciado\n",
    "Faça um programa que peça a idade do usuário e imprima se ele é maior ou menor de 18 anos.\n",
    "\n"
   ]
  },
  {
   "cell_type": "code",
   "execution_count": 1,
   "id": "c6a93ede",
   "metadata": {},
   "outputs": [
    {
     "name": "stdout",
     "output_type": "stream",
     "text": [
      "Qual a sua idade? 19\n",
      "Usuário é maior de idade.\n"
     ]
    }
   ],
   "source": [
    "idade = int(input('Qual a sua idade? '))\n",
    "\n",
    "if idade > 18 :\n",
    "    print('Usuário é maior de idade.')\n",
    "elif idade == 18 :\n",
    "    print('Usuário tem EXATOS 18 anos.')\n",
    "else :\n",
    "    print('Usuário é menor de idade.')"
   ]
  },
  {
   "cell_type": "markdown",
   "id": "fddb9758",
   "metadata": {},
   "source": [
    "# Questão #2\n",
    "## Enunciado\n",
    "Faça um programa que peça um número e mostre se ele é positivo ou negativo.\n",
    "\n"
   ]
  },
  {
   "cell_type": "code",
   "execution_count": 2,
   "id": "3fef4507",
   "metadata": {},
   "outputs": [
    {
     "name": "stdout",
     "output_type": "stream",
     "text": [
      "Por favor, qual número quer designar? 12\n",
      "Número é positivo!\n"
     ]
    }
   ],
   "source": [
    "numero = float(input('Por favor, qual número quer designar? '))\n",
    "\n",
    "if numero > 0 :\n",
    "    print('Número é positivo!')\n",
    "elif numero == 0 :\n",
    "    print('Número nem é positivo nem negativo! É ZERO!!!')\n",
    "else:\n",
    "    print('Número é negativo!')\n"
   ]
  },
  {
   "cell_type": "markdown",
   "id": "55d6eba5",
   "metadata": {},
   "source": [
    "# Questão #3\n",
    "## Enunciado\n",
    "Faça um programa que peça dois números e mostre o maior deles.\n",
    "\n"
   ]
  },
  {
   "cell_type": "code",
   "execution_count": 1,
   "id": "82332e5c",
   "metadata": {},
   "outputs": [
    {
     "name": "stdout",
     "output_type": "stream",
     "text": [
      "Por favor, insira um número: 1\n",
      "Por favor, insira um número: 2\n",
      "O maior valor número é 2.0.\n"
     ]
    }
   ],
   "source": [
    "num1 = float(input('Por favor, insira um número: '))\n",
    "num2 = float(input('Por favor, insira um número: '))\n",
    "\n",
    "if num1 > num2 :\n",
    "    print('O maior valor é {}.'.format(num1))\n",
    "elif num1 < num2 :\n",
    "    print('O maior valor é {}.'.format(num2))\n",
    "else:\n",
    "    print('Os valores inseridos são EXATAMENTE iguais.')"
   ]
  },
  {
   "cell_type": "markdown",
   "id": "7280ef54",
   "metadata": {},
   "source": [
    "# Questão #4\n",
    "## Enunciado\n",
    "Faça um programa que leia a validade das informações:\n",
    "\n",
    "a. Idade: entre 0 e 150;\n",
    "\n",
    "b. Salário: maior que 0;\n",
    "\n",
    "c. Sexo: M, F ou Outro;\n",
    "\n",
    "O programa deve imprimir uma mensagem de erro para cada informação inválida."
   ]
  },
  {
   "cell_type": "code",
   "execution_count": 2,
   "id": "b03b6a05",
   "metadata": {},
   "outputs": [
    {
     "name": "stdout",
     "output_type": "stream",
     "text": [
      "Por favor, qual sua idade? 1\n",
      "\n",
      "Por favor, qual seu salário? 1\n",
      "\n",
      "Para a informação a seguir, siga as instruções a seguir: \n",
      "\n",
      "Digite \"M\" para sexo Masculino\n",
      "Digite \"F\" para sexo Feminino\n",
      "Digite \"Outro\" para outra sexualidade\n",
      "\n",
      "Por favor, qual seu sexo? o\n",
      "Idade: 1.0\n",
      "Salário: 1.0\n",
      "Usuário inseriu informação inválida para sexo.\n"
     ]
    }
   ],
   "source": [
    "idade = float(input('Por favor, qual sua idade? '))\n",
    "salario = float(input('\\nPor favor, qual seu salário? '))\n",
    "print('\\nPara a informação a seguir, siga as instruções a seguir: ')\n",
    "input()\n",
    "print('Digite \"M\" para sexo Masculino')\n",
    "print('Digite \"F\" para sexo Feminino')\n",
    "print('Digite \"Outro\" para outra sexualidade')\n",
    "sexo = input('\\nPor favor, qual seu sexo? ')\n",
    "\n",
    "# Para idade\n",
    "if idade > 0 and idade < 150 :\n",
    "    print('Idade: {}'.format(idade))\n",
    "else :\n",
    "    print('Usuário inseriu informação inválida para idade.')\n",
    "\n",
    "# Para salário\n",
    "if salario > 0 :\n",
    "    print('Salário: {}'.format(salario))\n",
    "else :\n",
    "    print('Usuário inseriu informação inválida para salário.')\n",
    "\n",
    "# Para salário\n",
    "if (sexo == 'M' or sexo == 'F' or sexo == 'Outro') :\n",
    "    print('Sexo: {}'.format(sexo))\n",
    "else :\n",
    "    print('Usuário inseriu informação inválida para sexo.')"
   ]
  },
  {
   "cell_type": "markdown",
   "id": "c3f16c55",
   "metadata": {},
   "source": [
    "# Questão #5\n",
    "## Enunciado\n",
    "Escreva um programa que peça a nota de 3 provas de um aluno e verifique se ele passou ou não de ano.\n",
    "\n",
    "Obs.: O aluno irá passar de ano se sua média for maior que 6."
   ]
  },
  {
   "cell_type": "code",
   "execution_count": 3,
   "id": "941415e4",
   "metadata": {},
   "outputs": [
    {
     "name": "stdout",
     "output_type": "stream",
     "text": [
      "Por favor, informe a nota da prova 01: 7\n",
      "Por favor, informe a nota da prova 02: 7\n",
      "Por favor, informe a nota da prova 03: 7\n",
      "Aluno designado passou de ano.\n"
     ]
    }
   ],
   "source": [
    "nota1 = float(input('Por favor, informe a nota da prova 01: '))\n",
    "nota2 = float(input('Por favor, informe a nota da prova 02: '))\n",
    "nota3 = float(input('Por favor, informe a nota da prova 03: '))\n",
    "\n",
    "media = (nota1 + nota2 + nota3) / 3\n",
    "\n",
    "if media > 6 :\n",
    "    print('Aluno designado passou de ano.')\n",
    "else:\n",
    "    print('Aluno designado não passou de ano.')"
   ]
  },
  {
   "cell_type": "markdown",
   "id": "c0cc4c03",
   "metadata": {},
   "source": [
    "# Questão #6\n",
    "## Enunciado\n",
    "Faça um programa que mostre uma questão de múltipla escolha com 5 opções (letras a, b, c, d, e). Sabendo a resposta certa, o programa deve receber a opção do usuário e informar a letra que o usuário marcou e se a resposta está certa ou errada.\n",
    "\n"
   ]
  },
  {
   "cell_type": "code",
   "execution_count": 4,
   "id": "55004840",
   "metadata": {},
   "outputs": [
    {
     "name": "stdout",
     "output_type": "stream",
     "text": [
      "Joãozinho tem 5 tias que gostam muito dele. Qual delas tem bigode? \n",
      "\n",
      "a) Tia Maria\n",
      "b) Tia Rosa\n",
      "c) Tia Tonha\n",
      "d) Tia Nastácia\n",
      "e) Tia Krica\n",
      "\n",
      "Qual sua resposta? a\n",
      "Resposta errada....\n"
     ]
    }
   ],
   "source": [
    "print('Joãozinho tem 5 tias que gostam muito dele. Qual delas tem bigode? ')\n",
    "input()\n",
    "print('a) Tia Maria')\n",
    "print('b) Tia Rosa')\n",
    "print('c) Tia Tonha')\n",
    "print('d) Tia Nastácia')\n",
    "print('e) Tia Krica')\n",
    "\n",
    "resposta = input('\\nQual sua resposta? ')\n",
    "\n",
    "if resposta == 'e' :\n",
    "    print('Resposta correta!')\n",
    "elif (resposta == 'a' or resposta == 'b' or resposta == 'c' or resposta == 'd') :\n",
    "    print('Resposta errada....')\n",
    "else :\n",
    "    print('Usuário deveria marcar as letras de \"a\" a \"e\".')"
   ]
  },
  {
   "cell_type": "markdown",
   "id": "de3d534e",
   "metadata": {},
   "source": [
    "# Questão #7\n",
    "## Enunciado\n",
    "Vamos fazer um programa para verificar quem é o assassino de um crime. Para descobrir o assassino, a polícia faz um pequeno questionário com 5 perguntas onde a resposta só pode ser sim ou não:\n",
    "\n",
    "a. Mora perto da vítima?\n",
    "\n",
    "b. Já trabalhou com a vítima?\n",
    "\n",
    "c. Telefonou para a vítima?\n",
    "\n",
    "d. Esteve no local do crime?\n",
    "\n",
    "e. Devia para a vítima?\n",
    "\n",
    "Cada resposta sim dá um ponto para o suspeito. A polícia considera que os suspeitos com 5 pontos são os assassinos, com 4 a 3 pontos são cúmplices e 2 pontos são apenas suspeitos, necessitando outras investigações. Valores iguais ou abaixo de 1 são liberados.\n",
    "\n"
   ]
  },
  {
   "cell_type": "code",
   "execution_count": 5,
   "id": "6465e8a7",
   "metadata": {},
   "outputs": [
    {
     "name": "stdout",
     "output_type": "stream",
     "text": [
      "Por favor, responda as questões abaixo com s = Sim e n = Não.\n",
      "\n",
      "a) Mora perto da vítima? (s) ou (n) s\n",
      "b) Já trabalhou com a vítima? (s) ou (n) s\n",
      "c) Telefonou para a vítima? (s) ou (n) s\n",
      "d) Esteve no local do crime? (s) ou (n) s\n",
      "e) Devia para a vítima? (s) ou (n) s\n",
      "\n",
      "O investigado é um dos assassinos.\n"
     ]
    }
   ],
   "source": [
    "print('Por favor, responda as questões abaixo com s = Sim e n = Não.')\n",
    "\n",
    "a = input('\\na) Mora perto da vítima? (s) ou (n) ')\n",
    "b = input('b) Já trabalhou com a vítima? (s) ou (n) ')\n",
    "c = input('c) Telefonou para a vítima? (s) ou (n) ')\n",
    "d = input('d) Esteve no local do crime? (s) ou (n) ')\n",
    "e = input('e) Devia para a vítima? (s) ou (n) ')\n",
    "\n",
    "total = 0\n",
    "respostas = [a, b, c, d, e]\n",
    "\n",
    "for resposta in respostas :\n",
    "    if resposta == 's' :\n",
    "        total = total + 1\n",
    "    elif resposta == 'n' :\n",
    "        pass\n",
    "\n",
    "if total < 1 :\n",
    "    print('\\nO investigado pode ser liberado.')\n",
    "elif total < 3 :\n",
    "    print('\\nO investigado é suspeito.')\n",
    "elif total < 5 :\n",
    "    print('\\nO investigado é um cúmplice.')\n",
    "else:\n",
    "    print('\\nO investigado é um dos assassinos.')"
   ]
  },
  {
   "cell_type": "code",
   "execution_count": null,
   "id": "ae8d93d8",
   "metadata": {},
   "outputs": [],
   "source": []
  },
  {
   "cell_type": "markdown",
   "id": "b7167aa4",
   "metadata": {},
   "source": [
    "# Questão #8\n",
    "## Enunciado\n",
    "Um produto vai sofrer aumento de acordo com a Tabela 1 abaixo. Faça um programa que peça para o usuário digitar o valor do produto de acordo com o preço antigo e escreva uma das mensagens da Tabela 2, de acordo com o preço reajustado:\n",
    "\n",
    "Tabela 1\n",
    "\n",
    "Preço Antigo\t% de aumento\n",
    "Até 50 reais\t5%\n",
    "Entre 50 e 100 reais\t10%\n",
    "De 100 a 150 reais\t13%\n",
    "Acima de 150 reais\t15%\n",
    "Tabela 2\n",
    "\n",
    "Preço Novo\tMensagem\n",
    "Até 80 reais\tBarato\n",
    "Entre 80 e 115 reais\tRazoável\n",
    "Entre 115 e 150 reais\tNormal\n",
    "Entre 150 e 170 reais\tCaro\n",
    "Acima de 170 reais\tMuito Caro\n"
   ]
  },
  {
   "cell_type": "code",
   "execution_count": 6,
   "id": "a345dae9",
   "metadata": {},
   "outputs": [
    {
     "name": "stdout",
     "output_type": "stream",
     "text": [
      "Por favor, qual o valor do item? 20\n",
      "O preço remarcado será de 21.00 reais e é Barato!\n"
     ]
    }
   ],
   "source": [
    "preco = float(input('Por favor, qual o valor do item? '))\n",
    "\n",
    "if preco <= 50 :\n",
    "    preco_novo = preco * 1.05\n",
    "elif preco <= 100 :\n",
    "    preco_novo = preco * 1.10\n",
    "elif preco <= 150 :\n",
    "    preco_novo = preco * 1.13\n",
    "elif preco > 150 :\n",
    "    preco_novo = preco * 1.15\n",
    "\n",
    "if preco_novo <= 80 :\n",
    "    print('O preço remarcado será de {:.2f} reais e é Barato!'.format(preco_novo))\n",
    "elif preco_novo <= 115 :\n",
    "    print('O preço remarcado será de {:.2f} reais e é Razoável!'.format(preco_novo))\n",
    "elif preco_novo <= 150 :\n",
    "    print('O preço remarcado será de {:.2f} reais e é Normal!'.format(preco_novo))\n",
    "elif preco_novo <= 170 :\n",
    "    print('O preço remarcado será de {:.2f} reais e é Caro!!'.format(preco_novo))\n",
    "elif preco_novo > 170 :\n",
    "    print('O preço remarcado será de {:.2f} reais e é Muito Caro!!!'.format(preco_novo))"
   ]
  },
  {
   "cell_type": "markdown",
   "id": "60f942d7",
   "metadata": {},
   "source": [
    "# Questão #9\n",
    "## Enunciado\n",
    "Desafio 1 - Faça um programa que leia 3 números e informe o maior deles."
   ]
  },
  {
   "cell_type": "code",
   "execution_count": 2,
   "id": "433f7237",
   "metadata": {},
   "outputs": [
    {
     "name": "stdout",
     "output_type": "stream",
     "text": [
      "Por favor, informe o primeiro número: 1\n",
      "Por favor, informe o segundo número: 2\n",
      "Por favor, informe o terceiro número: 3\n",
      "O maior valor é 3.0\n"
     ]
    }
   ],
   "source": [
    "num1 = float(input('Por favor, informe o primeiro número: '))\n",
    "num2 = float(input('Por favor, informe o segundo número: '))\n",
    "num3 = float(input('Por favor, informe o terceiro número: '))\n",
    "\n",
    "# Caso dos 3 valores serem idênticos\n",
    "if num1 == num2 and num2 == num3 :\n",
    "    print('Os três valores são iguais!')\n",
    "else :\n",
    "    num_max = num1\n",
    "\n",
    "    if num2 > num_max :\n",
    "        num_max = num2\n",
    "\n",
    "    if num3 > num_max :\n",
    "        num_max = num3\n",
    "\n",
    "    print('O maior valor é', num_max)"
   ]
  },
  {
   "cell_type": "markdown",
   "id": "399f99c5",
   "metadata": {},
   "source": [
    "# Questão #10\n",
    "## Enunciado\n",
    "Desafio 2 - Faça o mesmo programa do exercício anterior, porém com 4 números.\n",
    "\n"
   ]
  },
  {
   "cell_type": "code",
   "execution_count": 3,
   "id": "8d3f81d7",
   "metadata": {},
   "outputs": [
    {
     "name": "stdout",
     "output_type": "stream",
     "text": [
      "Por favor, informe o primeiro número: 1\n",
      "Por favor, informe o segundo número: 1\n",
      "Por favor, informe o terceiro número: 1\n",
      "Por favor, informe o quarto número: 1\n",
      "Os quatro valores são iguais!\n"
     ]
    }
   ],
   "source": [
    "num1 = float(input('Por favor, informe o primeiro número: '))\n",
    "num2 = float(input('Por favor, informe o segundo número: '))\n",
    "num3 = float(input('Por favor, informe o terceiro número: '))\n",
    "num4 = float(input('Por favor, informe o quarto número: '))\n",
    "\n",
    "# Caso dos 3 valores serem idênticos\n",
    "if num1 == num2 and num2 == num3 and num3 == num4:\n",
    "    print('Os quatro valores são iguais!')\n",
    "else :\n",
    "    num_max = num1\n",
    "\n",
    "    if num2 > num_max :\n",
    "        num_max = num2\n",
    "\n",
    "    if num3 > num_max :\n",
    "        num_max = num3\n",
    "\n",
    "    if num4 > num_max :\n",
    "        num_max = num4\n",
    "\n",
    "    print('O maior valor é', num_max)"
   ]
  },
  {
   "cell_type": "markdown",
   "id": "59f45141",
   "metadata": {},
   "source": [
    "# Questão #11\n",
    "## Enunciado\n",
    "Desafio 3 - Um hospital quer fazer o diagnóstico de gripe ou dengue a partir de um questionário de sintomas, tendo as perguntas abaixo, faça um programa que faça o diagnóstico deste hospital:\n",
    "\n",
    "a. Sente dor no corpo?\n",
    "\n",
    "b. Você tem febre?\n",
    "\n",
    "c. Você tem tosse?\n",
    "\n",
    "d. Está com congestão nasal?\n",
    "\n",
    "e. Tem manchas pelo corpo?\n",
    "\n",
    "Para o diagnóstico ele tem a seguinte tabela:\n",
    "\n",
    "A\tB\tC\tD\tE\tResultado\n",
    "Sim\tSim\tNão\tNão\tSim\tDengue\n",
    "Sim\tSim\tSim\tSim\tNão\tGripe\n",
    "Não\tSim\tSim\tSim\tNão\tGripe\n",
    "Sim\tNão\tNão\tNão\tNão\tSem doenças\n",
    "Não\tNão\tNão\tNão\tNão\tSem doenças\n"
   ]
  },
  {
   "cell_type": "code",
   "execution_count": 4,
   "id": "64d039af",
   "metadata": {},
   "outputs": [
    {
     "name": "stdout",
     "output_type": "stream",
     "text": [
      "Por favor, responda as questões abaixo com s = Sim e n = Não.\n",
      "\n",
      "a) Sente dor no corpo? (s) ou (n) s\n",
      "b) Você tem febre? (s) ou (n) s\n",
      "c) Você tem tosse? (s) ou (n) n\n",
      "d) Está com congestão nasal? (s) ou (n) n\n",
      "e) Tem manchas pelo corpo? (s) ou (n) s\n",
      "\n",
      "Perdão, mas você está com Dengue. Por favor, procure imediamente um médico.\n"
     ]
    }
   ],
   "source": [
    "print('Por favor, responda as questões abaixo com s = Sim e n = Não.')\n",
    "\n",
    "a = input('\\na) Sente dor no corpo? (s) ou (n) ')\n",
    "b = input('b) Você tem febre? (s) ou (n) ')\n",
    "c = input('c) Você tem tosse? (s) ou (n) ')\n",
    "d = input('d) Está com congestão nasal? (s) ou (n) ')\n",
    "e = input('e) Tem manchas pelo corpo? (s) ou (n) ')\n",
    "\n",
    "respostas = [a, b, c, d, e]\n",
    "\n",
    "if respostas == ['s', 's', 'n', 'n', 's'] :\n",
    "    print('\\nPerdão, mas você está com Dengue. Por favor, procure imediatamente um médico.')\n",
    "elif respostas == ['s', 's', 's', 's', 'n'] or respostas == ['n', 's', 's', 's', 'n'] :\n",
    "    print('\\nVocê está com gripe.')\n",
    "elif respostas == ['s', 'n', 'n', 'n', 'n'] or respostas == ['n', 'n', 'n', 'n', 'n'] :\n",
    "    print('\\nVocê saudável - sem doenças.')\n",
    "else :\n",
    "    print('\\nNão há diagnóstico conclusivo....')"
   ]
  }
 ],
 "metadata": {
  "kernelspec": {
   "display_name": "Python 3",
   "language": "python",
   "name": "python3"
  },
  "language_info": {
   "codemirror_mode": {
    "name": "ipython",
    "version": 3
   },
   "file_extension": ".py",
   "mimetype": "text/x-python",
   "name": "python",
   "nbconvert_exporter": "python",
   "pygments_lexer": "ipython3",
   "version": "3.8.8"
  }
 },
 "nbformat": 4,
 "nbformat_minor": 5
}

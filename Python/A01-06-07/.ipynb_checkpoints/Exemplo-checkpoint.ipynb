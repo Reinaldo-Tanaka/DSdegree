{
 "cells": [
  {
   "cell_type": "markdown",
   "id": "f90b1601",
   "metadata": {},
   "source": [
    "Blahblah!"
   ]
  },
  {
   "cell_type": "code",
   "execution_count": 1,
   "id": "a0f012b1",
   "metadata": {},
   "outputs": [
    {
     "name": "stdout",
     "output_type": "stream",
     "text": [
      "0\n",
      "1\n",
      "4\n",
      "9\n",
      "16\n",
      "25\n",
      "36\n",
      "49\n",
      "64\n",
      "81\n"
     ]
    }
   ],
   "source": [
    "x = list(range(10))\n",
    "for y in x :\n",
    "    print(y ** 2)"
   ]
  },
  {
   "cell_type": "code",
   "execution_count": null,
   "id": "fa735558",
   "metadata": {},
   "outputs": [],
   "source": []
  }
 ],
 "metadata": {
  "kernelspec": {
   "display_name": "Python 3",
   "language": "python",
   "name": "python3"
  },
  "language_info": {
   "codemirror_mode": {
    "name": "ipython",
    "version": 3
   },
   "file_extension": ".py",
   "mimetype": "text/x-python",
   "name": "python",
   "nbconvert_exporter": "python",
   "pygments_lexer": "ipython3",
   "version": "3.8.8"
  }
 },
 "nbformat": 4,
 "nbformat_minor": 5
}

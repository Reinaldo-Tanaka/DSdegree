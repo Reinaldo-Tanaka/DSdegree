{
 "cells": [
  {
   "cell_type": "markdown",
   "id": "229b75d4",
   "metadata": {},
   "source": [
    "# Questão 01\n",
    "## Enunciado:   \n",
    "Faça um programa que mostre a mensagem \"Olá, mundo!\" na tela."
   ]
  },
  {
   "cell_type": "code",
   "execution_count": 1,
   "id": "4616803f",
   "metadata": {},
   "outputs": [
    {
     "name": "stdout",
     "output_type": "stream",
     "text": [
      "Olá, mundo!\n"
     ]
    }
   ],
   "source": [
    "print(\"Olá, mundo!\")"
   ]
  },
  {
   "cell_type": "markdown",
   "id": "be041d58",
   "metadata": {},
   "source": [
    "# Questão 02\n",
    "## Enunciado:  \n",
    "Faça um programa que peça um número e mostre a mensagem \"O número informado foi [número]\"."
   ]
  },
  {
   "cell_type": "code",
   "execution_count": 2,
   "id": "c213a6a3",
   "metadata": {},
   "outputs": [
    {
     "name": "stdout",
     "output_type": "stream",
     "text": [
      "Por favor, inserir um número: 20\n",
      "O número informado foi 20\n"
     ]
    }
   ],
   "source": [
    "numero = input('Por favor, inserir um número: ')\n",
    "print('O número informado foi', numero)"
   ]
  },
  {
   "cell_type": "markdown",
   "id": "d7e4aab8",
   "metadata": {},
   "source": [
    "# Questão 03\n",
    "## Enunciado\n",
    "Faça um programa que peça um número para o usuário (string), converta-o para float e depois imprima-o na tela. Você consegue fazer a mesma coisa, porém convertendo para int?\n",
    "\n"
   ]
  },
  {
   "cell_type": "code",
   "execution_count": 6,
   "id": "cfb7efce",
   "metadata": {},
   "outputs": [
    {
     "name": "stdout",
     "output_type": "stream",
     "text": [
      "Por favor, inserir um número: 15\n",
      "O número informado foi 15.0\n",
      "O número informado foi 15\n"
     ]
    }
   ],
   "source": [
    "numero = float(input('Por favor, inserir um número: '))\n",
    "print('O número informado foi', numero)\n",
    "print('O número informado foi', int(numero))"
   ]
  },
  {
   "cell_type": "markdown",
   "id": "b27a3909",
   "metadata": {},
   "source": [
    "# Questão 04\n",
    "## Enunciado\n",
    "Faça um programa que peça dois números inteiros e imprima a soma deles.\n",
    "\n"
   ]
  },
  {
   "cell_type": "code",
   "execution_count": 7,
   "id": "45874a2c",
   "metadata": {},
   "outputs": [
    {
     "name": "stdout",
     "output_type": "stream",
     "text": [
      "Por favor, inserir o primeiro número inteiro: 5\n",
      "Por favor, inserir o segundo número inteiro: 6\n",
      "A soma dos dois números é 11\n"
     ]
    }
   ],
   "source": [
    "a = int(input('Por favor, inserir o primeiro número inteiro: '))\n",
    "b = int(input('Por favor, inserir o segundo número inteiro: '))\n",
    "\n",
    "print('A soma dos dois números é', a+b)\n"
   ]
  },
  {
   "cell_type": "markdown",
   "id": "0a932b14",
   "metadata": {},
   "source": [
    "# Questão 05\n",
    "## Enunciado\n",
    "Faça um programa que peça as 4 notas bimestrais de um aluno e mostre a média aritmética delas.\n",
    "\n"
   ]
  },
  {
   "cell_type": "code",
   "execution_count": 8,
   "id": "a4c1897f",
   "metadata": {},
   "outputs": [
    {
     "name": "stdout",
     "output_type": "stream",
     "text": [
      "Por favor, informe a primeira nota: 4\n",
      "Por favor, informe a segunda nota: 5\n",
      "Por favor, informe a terceira nota: 6\n",
      "Por favor, informe a quarta nota: 7\n",
      "A média do aluno é 5.5\n"
     ]
    }
   ],
   "source": [
    "nota1 = float(input('Por favor, informe a primeira nota: '))\n",
    "nota2 = float(input('Por favor, informe a segunda nota: '))\n",
    "nota3 = float(input('Por favor, informe a terceira nota: '))\n",
    "nota4 = float(input('Por favor, informe a quarta nota: '))\n",
    "media = (nota1 + nota2 + nota3 + nota4) / 4\n",
    "\n",
    "print('A média do aluno é', media)"
   ]
  },
  {
   "cell_type": "markdown",
   "id": "87f4bbbd",
   "metadata": {},
   "source": [
    "# Questão 06\n",
    "## Enunciado\n",
    "Faça um programa que peça o raio de um círculo, calcule e mostre sua área.\n",
    "\n",
    "Obs: Fórmula da área de um círculo: A = 3,14*(r**2), onde r é o raio."
   ]
  },
  {
   "cell_type": "code",
   "execution_count": 10,
   "id": "4b7d2e02",
   "metadata": {},
   "outputs": [
    {
     "name": "stdout",
     "output_type": "stream",
     "text": [
      "Por favor, qual o valor do raio? 4\n",
      "O valor da área do círculo é 50.24\n"
     ]
    }
   ],
   "source": [
    "raio = float(input('Por favor, qual o valor do raio? '))\n",
    "area = 3.14 * (raio ** 2)\n",
    "print('O valor da área do círculo é', area)"
   ]
  },
  {
   "cell_type": "markdown",
   "id": "dac7886a",
   "metadata": {},
   "source": [
    "# Questão 07\n",
    "## Enunciado\n",
    "Faça um programa que pergunte quanto você ganha por hora e o número de horas trabalhadas no mês e depois, calcule e mostre o total do seu salário no referido mês."
   ]
  },
  {
   "cell_type": "code",
   "execution_count": 1,
   "id": "ba817aeb",
   "metadata": {},
   "outputs": [
    {
     "name": "stdout",
     "output_type": "stream",
     "text": [
      "Por favor, qual o valor da sua hora trabalhada? 12.5\n",
      "Por favor, qual número de horas trabalhadas? 12.5\n",
      "Total salário: R$ 156.25\n"
     ]
    }
   ],
   "source": [
    "valor_hora = float(input('Por favor, qual o valor da sua hora trabalhada? '))\n",
    "horas_trabalhadas = float(input('Por favor, qual número de horas trabalhadas? '))\n",
    "\n",
    "salario = valor_hora * horas_trabalhadas\n",
    "\n",
    "print('Total salário: R$ {}'.format(salario))"
   ]
  },
  {
   "cell_type": "markdown",
   "id": "c1a924de",
   "metadata": {},
   "source": [
    "# Questão 08\n",
    "## Enunciado\n",
    "Faça um programa que peça a temperatura em graus Fahrenheit (F), transforme e mostre a temperatura em graus Celsius (°C).\n",
    "\n",
    "°C = (5 * (F-32) / 9)\n",
    "\n",
    "Obs: Tente também fazer um programa que faça o inverso: peça a temperatura em graus Celsius e a transforme em graus Fahrenheit.\n",
    "\n"
   ]
  },
  {
   "cell_type": "code",
   "execution_count": 2,
   "id": "4b8b6cda",
   "metadata": {},
   "outputs": [
    {
     "name": "stdout",
     "output_type": "stream",
     "text": [
      "Por favor, qual a temperatura em Fahrenheit? 100\n",
      "A temperatura de 100.00°F é igual a 37.78°C.\n"
     ]
    }
   ],
   "source": [
    "# F --> C\n",
    "faren = float(input('Por favor, qual a temperatura em Fahrenheit? '))\n",
    "celcius = 5 * (faren - 32) / 9\n",
    "\n",
    "print('A temperatura de {:.2f}°F é igual a {:.2f}°C.'.format(faren, celcius))"
   ]
  },
  {
   "cell_type": "code",
   "execution_count": 3,
   "id": "06defb7c",
   "metadata": {},
   "outputs": [
    {
     "name": "stdout",
     "output_type": "stream",
     "text": [
      "Por favor, qual a temperatura em Celsius? 0\n",
      "A temperatura de 0.00°C é igual a 32.00°F.\n"
     ]
    }
   ],
   "source": [
    "# C --> F\n",
    "celcius = float(input('Por favor, qual a temperatura em Celsius? '))\n",
    "faren = (9/5 * celcius) + 32\n",
    "\n",
    "print('A temperatura de {:.2f}°C é igual a {:.2f}°F.'.format(celcius, faren))"
   ]
  },
  {
   "cell_type": "markdown",
   "id": "2dac4a6d",
   "metadata": {},
   "source": [
    "# Questão 09\n",
    "## Enunciado\n",
    "Faça um programa que peça o dia, o mês e o ano para o usuário e imprima a data completa no formato dd/mm/aaaa."
   ]
  },
  {
   "cell_type": "code",
   "execution_count": 1,
   "id": "1ce9d135",
   "metadata": {},
   "outputs": [
    {
     "name": "stdout",
     "output_type": "stream",
     "text": [
      "Por favor, informe o dia: 12\n",
      "Por favor, informe o mes: 12\n",
      "Por favor, informe o ano: 2021\n",
      "Data: 12/12/2021\n"
     ]
    }
   ],
   "source": [
    "dia = input('Por favor, informe o dia: ')\n",
    "mes = input('Por favor, informe o mes: ')\n",
    "ano = input('Por favor, informe o ano: ')\n",
    "\n",
    "print('Data: {}/{}/{}'.format(dia, mes, ano))\n"
   ]
  },
  {
   "cell_type": "markdown",
   "id": "f258c8e2",
   "metadata": {},
   "source": [
    "# Questão 10\n",
    "## Enunciado\n",
    "Faça um programa que peça 2 números inteiros e um número real, calcule e mostre:\n",
    "\n",
    "a) o produto do dobro do primeiro com metade do segundo.\n",
    "\n",
    "b) a soma do triplo do primeiro com o terceiro.\n",
    "\n",
    "c) o terceiro elevado ao cubo."
   ]
  },
  {
   "cell_type": "code",
   "execution_count": 2,
   "id": "369e8856",
   "metadata": {},
   "outputs": [
    {
     "name": "stdout",
     "output_type": "stream",
     "text": [
      "Por favor, informe um número inteiro: 2\n",
      "Por favor, informe outro número inteiro: 3\n",
      "Por favor, informe um número real: 5\n",
      "\n",
      "a) Produto do dobro do primeiro com metade do segundo é 6.00\n",
      "b) A soma do triplo do primeiro com o terceiro é 11.00\n",
      "c) O terceiro elevado ao cubo é 125.00\n"
     ]
    }
   ],
   "source": [
    "inteiro1 = int(input('Por favor, informe um número inteiro: '))\n",
    "inteiro2 = int(input('Por favor, informe outro número inteiro: '))\n",
    "real1 = float(input('Por favor, informe um número real: '))\n",
    "\n",
    "a = (2 * inteiro1) * (0.5 * inteiro2)\n",
    "b = (3 * inteiro1) + real1\n",
    "c = real1 ** 3\n",
    "\n",
    "print('\\na) Produto do dobro do primeiro com metade do segundo é {:.2f}'.format(a))\n",
    "print('b) A soma do triplo do primeiro com o terceiro é {:.2f}'.format(b))\n",
    "print('c) O terceiro elevado ao cubo é {:.2f}'.format(c))"
   ]
  },
  {
   "cell_type": "markdown",
   "id": "dbdf6f70",
   "metadata": {},
   "source": [
    "# Questão 11\n",
    "## Enunciado\n",
    "Faça um programa que peça o peso e altura de uma pessoa e calcule seu IMC (Índice de Massa Corporal).\n",
    "\n",
    "Obs: IMC = Peso/Altura**2"
   ]
  },
  {
   "cell_type": "code",
   "execution_count": 3,
   "id": "e6c79cc3",
   "metadata": {},
   "outputs": [
    {
     "name": "stdout",
     "output_type": "stream",
     "text": [
      "Por favor, qual o seu peso (em kg)? 83\n",
      "Por favor, qual sua altura (ao invés de \",\" incluir \".\")? 1.75\n",
      "Seu IMC é de 27.10\n"
     ]
    }
   ],
   "source": [
    "peso = float(input('Por favor, qual o seu peso (em kg)? '))\n",
    "altura = float(input('Por favor, qual sua altura (ao invés de \",\" incluir \".\")? '))\n",
    "\n",
    "imc = peso / (altura ** 2)\n",
    "\n",
    "print('Seu IMC é de {:.2f}'.format(imc))"
   ]
  },
  {
   "cell_type": "markdown",
   "id": "72955b0a",
   "metadata": {},
   "source": [
    "# Questão 12\n",
    "## Enunciado\n",
    "Faça um programa que peça um valor monetário e aumente-o em 15%. Seu programa deve imprimir a mensagem “O novo valor é [valor]”."
   ]
  },
  {
   "cell_type": "code",
   "execution_count": 4,
   "id": "b1c0637f",
   "metadata": {},
   "outputs": [
    {
     "name": "stdout",
     "output_type": "stream",
     "text": [
      "Por favor, qual o valor monetário a ser aumentado em 15%? 100\n",
      "O novo valor é 115.00\n"
     ]
    }
   ],
   "source": [
    "valor = float(input('Por favor, qual o valor monetário a ser aumentado em 15%? '))\n",
    "\n",
    "print('O novo valor é {:.2f}'.format(valor * 1.15))"
   ]
  },
  {
   "cell_type": "markdown",
   "id": "f126637a",
   "metadata": {},
   "source": [
    "# Questão 13\n",
    "## Enunciado\n",
    "Faça um programa que peça um valor monetário e diminua-o em 15%. Seu programa deve imprimir a mensagem “O novo valor é [valor]”."
   ]
  },
  {
   "cell_type": "code",
   "execution_count": 5,
   "id": "f29da843",
   "metadata": {},
   "outputs": [
    {
     "name": "stdout",
     "output_type": "stream",
     "text": [
      "Por favor, qual o valor monetário a ser dimunído em 15%? 100\n",
      "O novo valor é 85.00\n"
     ]
    }
   ],
   "source": [
    "valor = float(input('Por favor, qual o valor monetário a ser dimunído em 15%? '))\n",
    "\n",
    "print('O novo valor é {:.2f}'.format(valor * 0.85))"
   ]
  },
  {
   "cell_type": "markdown",
   "id": "e836cc28",
   "metadata": {},
   "source": [
    "# Questão 14\n",
    "## Enunciado\n",
    "Desafio 1 - Peça para o usuário digitar uma velocidade inicial (em m/s), uma posição inicial (em m) e um instante de tempo (em s) e imprima a posição de um projétil nesse instante de tempo.\n",
    "\n",
    "Use a fórmula matemática:\n",
    "\n",
    "y(t) = y(0) + v(0)*t + (g*(t**2)/2)\n",
    "\n",
    "Onde, g é a aceleração da gravidade (-10m/s²), y(t) é a posição final, y(0) é a posição inicial, v(0) é a velocidade inicial e t é o instante de tempo."
   ]
  },
  {
   "cell_type": "code",
   "execution_count": 7,
   "id": "4cc7f54e",
   "metadata": {},
   "outputs": [
    {
     "name": "stdout",
     "output_type": "stream",
     "text": [
      "Por favor, informe a componente vertical da velocidade inicial (em m/s): 15\n",
      "Por favor, informe a posição inicial (em m): 3\n",
      "Qual o instante que deseja saber (em s)? 13\n",
      "No instante 13.0 segundos, teremos o projétil na posição vertical -647.0 metros.\n"
     ]
    }
   ],
   "source": [
    "# *** Nota minha *** : esta velocidade é a componente vertical!\n",
    "# Não vá confundir, caboclo!!!\n",
    "# Considerando que não há chão!!! Se tiver chão, faz um if posicao < 0!\n",
    "\n",
    "g = -10\n",
    "vel_inicial = float(input('Por favor, informe a componente vertical da \\\n",
    "velocidade inicial (em m/s): '))\n",
    "pos_inicial = float(input('Por favor, informe a posição inicial (em m): '))\n",
    "tempo = float(input('Qual o instante que deseja saber (em s)? '))\n",
    "\n",
    "posicao = (pos_inicial) + (vel_inicial * tempo) + (g/2 * (tempo ** 2))\n",
    "\n",
    "print('No instante {} segundos, teremos o projétil na posição vertical {} metros.'.format(tempo, posicao))\n"
   ]
  },
  {
   "cell_type": "markdown",
   "id": "5fe3f369",
   "metadata": {},
   "source": [
    "# Questão #15\n",
    "## Enunciado\n",
    "Desafio 2 - Faça um programa que informe a data e a hora para o usuário. Para isso use a função datetime.now() do módulo datetime."
   ]
  },
  {
   "cell_type": "code",
   "execution_count": 8,
   "id": "aecd65cf",
   "metadata": {},
   "outputs": [
    {
     "name": "stdout",
     "output_type": "stream",
     "text": [
      "Data e horário neste instante: 2021-06-11 10:28:57.789166\n"
     ]
    }
   ],
   "source": [
    "from datetime import datetime\n",
    "\n",
    "print('Data e horário neste instante:', datetime.now())"
   ]
  },
  {
   "cell_type": "code",
   "execution_count": null,
   "id": "697cb5a9",
   "metadata": {},
   "outputs": [],
   "source": []
  }
 ],
 "metadata": {
  "kernelspec": {
   "display_name": "Python 3",
   "language": "python",
   "name": "python3"
  },
  "language_info": {
   "codemirror_mode": {
    "name": "ipython",
    "version": 3
   },
   "file_extension": ".py",
   "mimetype": "text/x-python",
   "name": "python",
   "nbconvert_exporter": "python",
   "pygments_lexer": "ipython3",
   "version": "3.8.8"
  }
 },
 "nbformat": 4,
 "nbformat_minor": 5
}

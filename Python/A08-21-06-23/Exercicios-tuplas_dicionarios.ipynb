{
 "cells": [
  {
   "cell_type": "markdown",
   "id": "65bfd2aa",
   "metadata": {},
   "source": [
    "# Questão #1\n",
    "## Enunciado\n",
    "Crie uma tupla com todos os números de 0 a 9. Explore a sintaxe: use e depois não use parênteses.\n",
    "\n"
   ]
  },
  {
   "cell_type": "code",
   "execution_count": 7,
   "id": "477723b1",
   "metadata": {},
   "outputs": [
    {
     "name": "stdout",
     "output_type": "stream",
     "text": [
      "1\n",
      "2\n",
      "3\n",
      "4\n",
      "5\n",
      "6\n",
      "7\n",
      "8\n",
      "9\n"
     ]
    },
    {
     "data": {
      "text/plain": [
       "tuple"
      ]
     },
     "execution_count": 7,
     "metadata": {},
     "output_type": "execute_result"
    }
   ],
   "source": [
    "my_tupla = 1, 2, 3, 4, 5, 6, 7, 8, 9\n",
    "type(my_tupla)\n",
    "for numero in my_tupla :\n",
    "    print(numero)\n",
    "my_tupla = (1, 2, 3, 4, 5, 6, 7, 8, 9)\n",
    "type(my_tupla)"
   ]
  },
  {
   "cell_type": "markdown",
   "id": "bc6082d0",
   "metadata": {},
   "source": [
    "# Questão #2\n",
    "## Enunciado\n",
    "Crie uma tupla com todos os pares entre 0 e 100 (inclusive).\n",
    "\n"
   ]
  },
  {
   "cell_type": "code",
   "execution_count": 8,
   "id": "cc2335b9",
   "metadata": {},
   "outputs": [],
   "source": [
    "ex_tupla = tuple(range(0,101,2))"
   ]
  },
  {
   "cell_type": "code",
   "execution_count": 10,
   "id": "ab0b96df",
   "metadata": {},
   "outputs": [
    {
     "name": "stdout",
     "output_type": "stream",
     "text": [
      "<class 'tuple'>\n"
     ]
    }
   ],
   "source": [
    "print(type(ex_tupla))"
   ]
  },
  {
   "cell_type": "markdown",
   "id": "6b7cdf06",
   "metadata": {},
   "source": [
    "# Questão #3\n",
    "## Enunciado\n",
    "Crie uma função que recebe uma lista de números e devolve, nesta ordem, o mínimo, a média, o desvio padrão e o máximo.\n",
    "\n",
    "Dica: Use a biblioteca statistics (import statistics) para calcular o desvio padrão: desvio = statistics.stdev(lista)\n",
    "\n"
   ]
  },
  {
   "cell_type": "code",
   "execution_count": 11,
   "id": "6d3bd69f",
   "metadata": {},
   "outputs": [],
   "source": [
    "import statistics\n",
    "\n",
    "def min_med_dp_max(lista_num) :\n",
    "    minimo = min(lista_num)\n",
    "    media = sum(lista_num) / len(lista_num)\n",
    "    desvio = statistics.stdev(lista_num)\n",
    "    # Vamos ver se consigo implementar na unha!\n",
    "    # lista_aux = list()\n",
    "    # for numero in lista_num :\n",
    "    #     dif_aux = ((numero - media) ** 2)\n",
    "    #     lista_aux.append(dif_aux)\n",
    "    # soma_aux = sum(lista_aux)\n",
    "    # desvio_meu = ((soma_aux / (len(lista_num) - 1)) ** 0.5)\n",
    "    maximo = max(lista_num)\n",
    "    return minimo, media, desvio, maximo"
   ]
  },
  {
   "cell_type": "code",
   "execution_count": 12,
   "id": "ae539df7",
   "metadata": {},
   "outputs": [
    {
     "data": {
      "text/plain": [
       "(0, 99.5, 57.879184513951124, 199)"
      ]
     },
     "execution_count": 12,
     "metadata": {},
     "output_type": "execute_result"
    }
   ],
   "source": [
    "min_med_dp_max(list(range(200)))"
   ]
  },
  {
   "cell_type": "markdown",
   "id": "62c1740c",
   "metadata": {},
   "source": [
    "# Questão #4\n",
    "## Enunciado\n",
    "Crie uma função que recebe uma lista e retorna True se todos os seus elementos forem numéricos (int, float ou string contendo um int ou float) ou False do contrário. A função deve também retornar a lista tratada: transformar todas as entradas não numéricas em numéricas ou, no melhor caso, devolver a lista apenas.\n",
    "\n"
   ]
  },
  {
   "cell_type": "code",
   "execution_count": 13,
   "id": "306e45e8",
   "metadata": {},
   "outputs": [],
   "source": [
    "def numero_ou_nao(quero_lista) :\n",
    "    var_num = 0     # esta variável apoia a verificação de numeros na lista\n",
    "    for i in range(len(ex_lista)) :\n",
    "        if type(ex_lista[i]) == int or type(ex_lista[i]) == float :\n",
    "            var_num = var_num + 1\n",
    "        else :\n",
    "            if ex_lista[i].replace('.','',1).isdigit() :    # Cara, que gambiarra!\n",
    "                ex_lista[i] = float(ex_lista[i])\n",
    "                var_num = var_num + 1\n",
    "            else :\n",
    "                pass\n",
    "\n",
    "    return var_num == len(ex_lista), ex_lista"
   ]
  },
  {
   "cell_type": "code",
   "execution_count": 14,
   "id": "11f5345b",
   "metadata": {},
   "outputs": [
    {
     "name": "stdout",
     "output_type": "stream",
     "text": [
      "(False, [0, 1, 2, 3, 4, 5, 6, 7, 8, 9, 10, -0.42, 11.11, 'Dog'])\n"
     ]
    }
   ],
   "source": [
    "ex_lista = list(range(11))\n",
    "ex_lista.append(-0.42)\n",
    "ex_lista.append('11.11')\n",
    "ex_lista.append('Dog')\n",
    "\n",
    "resultados = numero_ou_nao(ex_lista)\n",
    "print(resultados)"
   ]
  },
  {
   "cell_type": "markdown",
   "id": "2571bb54",
   "metadata": {},
   "source": [
    "# Questão #5\n",
    "## Enunciado\n",
    "Faça uma função que recebe valores a, b e c, resolve a equação quadrática a*x**2 + b*x + c = 0 e retorna:\n",
    "\n",
    "a. o valor de Δ onde Δ = b**2- 4*a*c\n",
    "\n",
    "b. uma tupla com o valor do ponto de mínimo ou máximo: x_m = -b/(2*a) e y_m = -Δ/(4*a);\n",
    "\n",
    "c. uma lista contendo as raízes (a lista pode ser vazia, caso Δ<0; pode conter apenas um elemento, caso Δ = 0; ou conter duas raízes, caso Δ> 0).\n",
    "\n"
   ]
  },
  {
   "cell_type": "code",
   "execution_count": 1,
   "id": "f9319c29",
   "metadata": {},
   "outputs": [],
   "source": [
    "def eq_quadr(a, b, c) :\n",
    "    delta = (b ** 2) - (4 * a * c)\n",
    "\n",
    "    x_m = -b / (2 * a)\n",
    "    y_m = -delta / (4 * a)\n",
    "\n",
    "    raizes = list()\n",
    "    if delta < 0 :\n",
    "        raizes.append(None)\n",
    "    elif delta == 0 :\n",
    "        raizes.append(x_m)\n",
    "    else :      # Se delta > 0\n",
    "        raizes.append(-b + delta/ (2 * a))\n",
    "        raizes.append(-b - delta/ (2 * a))\n",
    "    return (delta, (x_m, y_m), raizes)"
   ]
  },
  {
   "cell_type": "code",
   "execution_count": 2,
   "id": "80d71dd1",
   "metadata": {},
   "outputs": [
    {
     "name": "stdout",
     "output_type": "stream",
     "text": [
      "(60, (-4.0, -15.0), [22.0, -38.0])\n"
     ]
    }
   ],
   "source": [
    "a = 1\n",
    "b = 8\n",
    "c = 1\n",
    "exemplo = eq_quadr(a,b,c)\n",
    "print(exemplo)"
   ]
  },
  {
   "cell_type": "markdown",
   "id": "146f41b6",
   "metadata": {},
   "source": [
    "# Questão #6\n",
    "## Enunciado\n",
    "Crie um dicionário cujas chaves são os meses do ano e os valores são a duração (em dias) de cada mês.\n",
    "\n"
   ]
  },
  {
   "cell_type": "code",
   "execution_count": 3,
   "id": "3dace1b7",
   "metadata": {},
   "outputs": [
    {
     "name": "stdout",
     "output_type": "stream",
     "text": [
      "No mes de Janeiro tem-se 31 dias.\n",
      "No mes de Fevereiro tem-se [28, 29] dias.\n",
      "No mes de Marco tem-se 31 dias.\n",
      "No mes de Abril tem-se 30 dias.\n",
      "No mes de Maio tem-se 31 dias.\n",
      "No mes de Junho tem-se 30 dias.\n",
      "No mes de Julho tem-se 31 dias.\n",
      "No mes de Agosto tem-se 31 dias.\n",
      "No mes de Setembro tem-se 30 dias.\n",
      "No mes de Outubro tem-se 31 dias.\n",
      "No mes de Novembro tem-se 30 dias.\n",
      "No mes de Dezembro tem-se 31 dias.\n"
     ]
    }
   ],
   "source": [
    "duracao_mes = {\n",
    "    'Janeiro' : 31,\n",
    "    'Fevereiro' : [28, 29],\n",
    "    'Marco' : 31,\n",
    "    'Abril' : 30,\n",
    "    'Maio' : 31,\n",
    "    'Junho' : 30,\n",
    "    'Julho' : 31,\n",
    "    'Agosto' : 31,\n",
    "    'Setembro' : 30,\n",
    "    'Outubro' : 31,\n",
    "    'Novembro' : 30,\n",
    "    'Dezembro' : 31\n",
    "}\n",
    "\n",
    "for mes in duracao_mes :\n",
    "    print('No mes de {} tem-se {} dias.'.format(mes, duracao_mes[mes]))"
   ]
  },
  {
   "cell_type": "markdown",
   "id": "71fa00f0",
   "metadata": {},
   "source": [
    "# Questão #7\n",
    "## Enunciado\n",
    "Imprima as chaves seguidas dos seus valores para dicionário criado no exercício anterior.\n",
    "\n",
    "Exemplo:\n",
    "\n",
    "Janeiro - 31\n",
    "Fevereiro - 28\n",
    "Março - 31\n",
    "Etc...\n",
    "\n"
   ]
  },
  {
   "cell_type": "code",
   "execution_count": 4,
   "id": "1d520fec",
   "metadata": {},
   "outputs": [
    {
     "name": "stdout",
     "output_type": "stream",
     "text": [
      "No mes de Janeiro tem-se 31 dias.\n",
      "No mes de Fevereiro tem-se [28, 29] dias.\n",
      "No mes de Marco tem-se 31 dias.\n",
      "No mes de Abril tem-se 30 dias.\n",
      "No mes de Maio tem-se 31 dias.\n",
      "No mes de Junho tem-se 30 dias.\n",
      "No mes de Julho tem-se 31 dias.\n",
      "No mes de Agosto tem-se 31 dias.\n",
      "No mes de Setembro tem-se 30 dias.\n",
      "No mes de Outubro tem-se 31 dias.\n",
      "No mes de Novembro tem-se 30 dias.\n",
      "No mes de Dezembro tem-se 31 dias.\n"
     ]
    }
   ],
   "source": [
    "duracao_mes = {\n",
    "    'Janeiro' : 31,\n",
    "    'Fevereiro' : [28, 29],\n",
    "    'Marco' : 31,\n",
    "    'Abril' : 30,\n",
    "    'Maio' : 31,\n",
    "    'Junho' : 30,\n",
    "    'Julho' : 31,\n",
    "    'Agosto' : 31,\n",
    "    'Setembro' : 30,\n",
    "    'Outubro' : 31,\n",
    "    'Novembro' : 30,\n",
    "    'Dezembro' : 31\n",
    "}\n",
    "\n",
    "for mes in duracao_mes :\n",
    "    print('No mes de {} tem-se {} dias.'.format(mes, duracao_mes[mes]))"
   ]
  },
  {
   "cell_type": "markdown",
   "id": "6431cbca",
   "metadata": {},
   "source": [
    "# Questão #8\n",
    "## Enunciado\n",
    "Crie um dicionário para as seguintes relações:\n",
    "\n",
    "‘Banana’: 3.0\n",
    "\n",
    "‘Cebola’: 4.0\n",
    "\n",
    "‘Maçã’: 5.7\n",
    "\n",
    "‘Abacaxi’: 8.0\n"
   ]
  },
  {
   "cell_type": "code",
   "execution_count": 5,
   "id": "2206ba7a",
   "metadata": {},
   "outputs": [
    {
     "name": "stdout",
     "output_type": "stream",
     "text": [
      "Banana : 3.0\n",
      "Cebola : 4.0\n",
      "Maçã : 5.7\n",
      "Abacaxi : 8.0\n"
     ]
    }
   ],
   "source": [
    "rangos = {\n",
    "    'Banana' : 3.0,\n",
    "    'Cebola' : 4.0,\n",
    "    'Maçã' : 5.7,\n",
    "    'Abacaxi' : 8.0,\n",
    "}\n",
    "\n",
    "for rango in rangos :\n",
    "    print(rango, ':', rangos[rango])"
   ]
  },
  {
   "cell_type": "markdown",
   "id": "78c1c26c",
   "metadata": {},
   "source": [
    "# Questão #9\n",
    "## Enunciado\n",
    "Altere o valor da chave ‘Maçã’ no dicionário do exercício anterior para 8.6.\n",
    "\n"
   ]
  },
  {
   "cell_type": "code",
   "execution_count": 6,
   "id": "53ed0a90",
   "metadata": {},
   "outputs": [],
   "source": [
    "rangos = {\n",
    "    'Banana' : 3.0,\n",
    "    'Cebola' : 4.0,\n",
    "    'Maçã' : 5.7,\n",
    "    'Abacaxi' : 8.0,\n",
    "}\n",
    "\n",
    "rangos['Maçã'] = 8.6"
   ]
  },
  {
   "cell_type": "markdown",
   "id": "3b92dc8a",
   "metadata": {},
   "source": [
    "# Questão #10\n",
    "## Enunciado\n",
    "Crie uma função que receba os valores do nome, idade e e-mail de uma pessoa e guarde-os em um dicionário com as chaves ‘nome’, ‘idade’ e ‘email’, respectivamente. Sua função deve retornar esse dicionário.\n",
    "\n"
   ]
  },
  {
   "cell_type": "code",
   "execution_count": 7,
   "id": "99aa8c22",
   "metadata": {},
   "outputs": [],
   "source": [
    "def dados_pessoais(nome, idade, email) :\n",
    "    meu_dicio = dict()\n",
    "    meu_dicio['nome'] = nome\n",
    "    meu_dicio['idade'] = idade\n",
    "    meu_dicio['email'] = email\n",
    "    return meu_dicio"
   ]
  },
  {
   "cell_type": "code",
   "execution_count": 8,
   "id": "045a3f85",
   "metadata": {},
   "outputs": [
    {
     "name": "stdout",
     "output_type": "stream",
     "text": [
      "{'nome': 'Karen', 'idade': 36, 'email': 'karentanaka@gmail.com'}\n"
     ]
    }
   ],
   "source": [
    "karen = dados_pessoais('Karen', 36, 'karentanaka@gmail.com')\n",
    "print(karen)"
   ]
  },
  {
   "cell_type": "markdown",
   "id": "77f56b42",
   "metadata": {},
   "source": [
    "# Questão #11\n",
    "## Enunciado\n",
    "Como você armazenaria a seguinte tabela usando apenas dicionários? Tente imprimir o valor correspondente da linha Pedro x Coluna B.\n",
    "\n",
    "           Coluna A    Coluna B  \n",
    "      Maria\t   1\t       5  \n",
    "      Pedro\t 0.5\t       3  \n",
    "      João\t  3.2\t       1  \n"
   ]
  },
  {
   "cell_type": "code",
   "execution_count": 9,
   "id": "81e47ca7",
   "metadata": {},
   "outputs": [
    {
     "name": "stdout",
     "output_type": "stream",
     "text": [
      "Pedro, cuja Coluna B é 3.\n"
     ]
    }
   ],
   "source": [
    "meu_dicio = {\n",
    "    'Maria' : {\n",
    "        'Coluna A' : 1,\n",
    "        'Coluna B' : 5,\n",
    "    },\n",
    "    'Pedro' : {\n",
    "        'Coluna A' : 0.5,\n",
    "        'Coluna B' : 3,\n",
    "    },\n",
    "    'João' : {\n",
    "        'Coluna A' : 3.2,\n",
    "        'Coluna B' : 1,\n",
    "    }\n",
    "}\n",
    "\n",
    "print('{}, cuja Coluna B é {}.'.format('Pedro', meu_dicio['Pedro']['Coluna B']))"
   ]
  },
  {
   "cell_type": "markdown",
   "id": "f0bb7a9f",
   "metadata": {},
   "source": [
    "# Questão #12\n",
    "## Enunciado\n",
    "Faça uma função que receba uma lista e conte quantas vezes cada elemento apareceu nessa lista. Essa função deverá guardar os dados em um dicionário no qual as chaves são os elementos da lista e os valores são a contagem de quantas vezes esse elemento aparece.\n",
    "\n"
   ]
  },
  {
   "cell_type": "code",
   "execution_count": 10,
   "id": "a1373a61",
   "metadata": {},
   "outputs": [],
   "source": [
    "def contagem(uma_lista) :\n",
    "    dicio_aux = dict()\n",
    "    for chave in aleat_lista :\n",
    "        if chave in dicio_aux :\n",
    "            dicio_aux[chave] = dicio_aux[chave] + 1\n",
    "        else :\n",
    "            dicio_aux[chave] = dicio_aux.get(chave, 1)\n",
    "    return dicio_aux"
   ]
  },
  {
   "cell_type": "code",
   "execution_count": 11,
   "id": "e2fae512",
   "metadata": {},
   "outputs": [
    {
     "name": "stdout",
     "output_type": "stream",
     "text": [
      "{56: 1, 49: 2, 61: 3, 6: 3, 37: 1, 100: 3, 44: 4, 59: 1, 84: 1, 53: 3, 25: 2, 22: 4, 50: 4, 21: 4, 13: 3, 85: 3, 90: 2, 57: 3, 2: 2, 68: 2, 41: 1, 51: 4, 80: 1, 18: 5, 97: 2, 94: 3, 8: 3, 86: 2, 62: 1, 28: 1, 30: 3, 70: 3, 16: 3, 65: 1, 93: 2, 98: 2, 3: 4, 12: 1, 87: 1, 33: 1, 48: 2, 89: 3, 0: 2, 11: 3, 55: 1, 54: 3, 36: 3, 4: 3, 7: 2, 77: 1, 23: 2, 31: 4, 74: 2, 14: 3, 39: 1, 10: 2, 71: 2, 20: 2, 88: 1, 58: 6, 66: 5, 82: 1, 29: 4, 92: 2, 79: 2, 60: 2, 67: 1, 40: 1, 9: 1, 96: 2, 64: 1, 32: 3, 5: 2, 72: 5, 83: 3, 76: 3, 15: 1, 99: 2, 19: 2, 46: 1, 91: 1, 73: 1, 43: 3, 52: 2, 81: 1, 78: 1, 24: 1, 27: 1, 35: 1, 17: 1}\n"
     ]
    }
   ],
   "source": [
    "import random\n",
    "\n",
    "aleat_lista = list()\n",
    "for vezes in range(200) :\n",
    "    aleat_lista.append(random.randint(0, 100))\n",
    "\n",
    "exemplo = contagem(aleat_lista)\n",
    "print(exemplo)"
   ]
  },
  {
   "cell_type": "markdown",
   "id": "fd0d77c2",
   "metadata": {},
   "source": [
    "# Questão #13\n",
    "## Enunciado\n",
    "Faça um programa que fique pedindo uma resposta do usuário, entre 1, 2 e 3. Se o usuário digitar 1, o programa deve cadastrar um novo usuário nos moldes do exercício 10 e guardar esse cadastro num dicionário cuja chave será o CPF da pessoa. Quando o usuário digitar 2, o programa deve imprimir os usuários cadastrados; e se o usuário digitar 3, o programa deve fechar.\n",
    "\n",
    "Exemplo do dicionário:\n",
    "\n",
    "‘987.654.321-00’: {‘nome’: Maria, ‘idade’: 20, ‘email’ :             maria@mail.com}\n"
   ]
  },
  {
   "cell_type": "code",
   "execution_count": 1,
   "id": "c06443f2",
   "metadata": {},
   "outputs": [
    {
     "name": "stdout",
     "output_type": "stream",
     "text": [
      "\n",
      "Dentre as opções :\n",
      "**********************************\n",
      "1: cadastro de novo usuário \n",
      "2: mostrar os usuários cadastrados\n",
      "3: fechar o programa\n",
      "**********************************\n",
      "\n",
      "Por favor, qual opção deseja? (1 ou 2 ou 3) 2\n",
      "\n",
      "*** Por favor, adicione algum usuário: a lista está vazia. ***\n",
      "\n",
      "Dentre as opções :\n",
      "**********************************\n",
      "1: cadastro de novo usuário \n",
      "2: mostrar os usuários cadastrados\n",
      "3: fechar o programa\n",
      "**********************************\n",
      "\n",
      "Por favor, qual opção deseja? (1 ou 2 ou 3) 3\n",
      "Fechando o programa!\n"
     ]
    }
   ],
   "source": [
    "def pedir_cpf() :\n",
    "    cpf_dado = []\n",
    "    while len(cpf_dado) != 11 :\n",
    "        cpf_dado = input('Por favor, qual o seu CPF? (só números) ' )\n",
    "    cpf = cpf_dado[:3] + '.' + cpf_dado[3:6] + '.' + cpf_dado[6:9] + '-' + cpf_dado[9:]\n",
    "    return cpf\n",
    "\n",
    "def pedir_nome() :\n",
    "    while True :\n",
    "        nome_dado = input('\\nQual seu primeiro nome? ')\n",
    "        print(f'Ok, seu nome é {nome_dado}. É isso mesmo? ')\n",
    "        confirmacao = input('\\nSe sim, digite (s). Se não, digite (n). ')\n",
    "        if confirmacao.lower() == 's' :\n",
    "            return nome_dado\n",
    "        elif confirmacao.lower() == 'n' :\n",
    "            print('Ok, vamos recomeçar.')\n",
    "        else :\n",
    "            print('Não compreendi... vamos reiniciar.')\n",
    "\n",
    "def pedir_idade() :\n",
    "    while True :\n",
    "        idade_dada = input('\\nQual sua idade? ')\n",
    "        print(f'Ok, sua idade é {idade_dada}. É isso mesmo? ')\n",
    "        confirmacao = input('\\nSe sim, digite (s). Se não, digite (n). ')\n",
    "        if confirmacao.lower() == 's' :\n",
    "            return idade_dada\n",
    "        elif confirmacao.lower() == 'n' :\n",
    "            print('Ok, vamos recomeçar.')\n",
    "        else :\n",
    "            print('Não compreendi... vamos reiniciar.')\n",
    "\n",
    "def pedir_email() :\n",
    "    while True :\n",
    "        email_dado = input('\\nQual seu email? ')\n",
    "        print(f'Ok, seu email é {email_dado}. É isso mesmo? ')\n",
    "        confirmacao = input('\\nSe sim, digite (s). Se não, digite (n). ')\n",
    "        if confirmacao.lower() == 's':\n",
    "            return email_dado\n",
    "        elif confirmacao.lower() == 'n' :\n",
    "            print('Ok, vamos recomeçar.')\n",
    "        else :\n",
    "            print('Não compreendi... vamos reiniciar.')\n",
    "\n",
    "# Criando as variáveis auxiliares\n",
    "dicio_cadastro = dict()\n",
    "\n",
    "while True :\n",
    "    # Mostrando as opções para usuário\n",
    "    print('\\nDentre as opções :')\n",
    "    print('**********************************')\n",
    "    print('1: cadastro de novo usuário ')\n",
    "    print('2: mostrar os usuários cadastrados')\n",
    "    print('3: fechar o programa')\n",
    "    print('**********************************')\n",
    "\n",
    "    resposta = input('\\nPor favor, qual opção deseja? (1 ou 2 ou 3) ')\n",
    "    if resposta == '1' :\n",
    "        cpf = pedir_cpf()\n",
    "        nome = pedir_nome()\n",
    "        idade = pedir_idade()\n",
    "        email = pedir_email()\n",
    "\n",
    "        dicio_cadastro[cpf] = {\n",
    "            'nome' : nome,\n",
    "            'idade' : idade,\n",
    "            'email' : email\n",
    "        }\n",
    "    elif resposta == '2' :\n",
    "        if dicio_cadastro == {} :\n",
    "            print('\\n*** Por favor, adicione algum usuário: a lista está vazia. ***')\n",
    "        else:\n",
    "            posicao = 1     # Ajudar no print\n",
    "            for cpf in dicio_cadastro :\n",
    "                print('\\nTemos na posição {} o cadastro do CPF número {}.'.format(posicao, cpf))\n",
    "                print('Cujo nome é {} e idade é {}.'.format(dicio_cadastro[cpf]['nome'], \\\n",
    "                    dicio_cadastro[cpf]['idade']))\n",
    "                print('E-mail de cadastro é {}.'.format(dicio_cadastro[cpf]['email']))\n",
    "                posicao = posicao + 1\n",
    "    elif resposta == '3' :\n",
    "        print('Fechando o programa!')\n",
    "        break\n",
    "    else :\n",
    "        print('\\n#######################################')\n",
    "        print('Por favor, digitar \"1\", \"2\" ou \"3\": ')\n",
    "        print('#######################################')"
   ]
  },
  {
   "cell_type": "markdown",
   "id": "defd2c2c",
   "metadata": {},
   "source": [
    "# Questão #14\n",
    "## Enunciado\n",
    "Implemente um sistema de busca para o programa do exercício 11. Isto é, se o usuário digitar 4, procure um determinado usuário pelo seu CPF.\n",
    "\n"
   ]
  },
  {
   "cell_type": "code",
   "execution_count": 2,
   "id": "6112d7a4",
   "metadata": {},
   "outputs": [
    {
     "name": "stdout",
     "output_type": "stream",
     "text": [
      "\n",
      "Dentre as opções :\n",
      "**********************************\n",
      "1: cadastro de novo usuário \n",
      "2: mostrar os usuários cadastrados\n",
      "3: fechar o programa\n",
      "4: buscar um CPF\n",
      "**********************************\n",
      "\n",
      "Por favor, qual opção deseja? (1, 2, 3 ou 4) 2\n",
      "\n",
      "*** Por favor, adicione algum usuário: a lista está vazia. ***\n",
      "\n",
      "Dentre as opções :\n",
      "**********************************\n",
      "1: cadastro de novo usuário \n",
      "2: mostrar os usuários cadastrados\n",
      "3: fechar o programa\n",
      "4: buscar um CPF\n",
      "**********************************\n",
      "\n",
      "Por favor, qual opção deseja? (1, 2, 3 ou 4) 4\n",
      "Por favor, qual o CPF? (só números) 22449654810\n",
      "Não há registo do CPF 224.496.548-10.\n",
      "\n",
      "Dentre as opções :\n",
      "**********************************\n",
      "1: cadastro de novo usuário \n",
      "2: mostrar os usuários cadastrados\n",
      "3: fechar o programa\n",
      "4: buscar um CPF\n",
      "**********************************\n",
      "\n",
      "Por favor, qual opção deseja? (1, 2, 3 ou 4) 3\n",
      "Fechando o programa!\n"
     ]
    }
   ],
   "source": [
    "def pedir_cpf() :\n",
    "    cpf_dado = []\n",
    "    while len(cpf_dado) != 11 :\n",
    "        cpf_dado = input('Por favor, qual o CPF? (só números) ' )\n",
    "    cpf = cpf_dado[:3] + '.' + cpf_dado[3:6] + '.' + cpf_dado[6:9] + '-' + cpf_dado[9:]\n",
    "    return cpf\n",
    "\n",
    "def pedir_nome() :\n",
    "    while True :\n",
    "        nome_dado = input('\\nQual seu primeiro nome? ')\n",
    "        print(f'Ok, seu nome é {nome_dado}. É isso mesmo? ')\n",
    "        confirmacao = input('\\nSe sim, digite (s). Se não, digite (n). ')\n",
    "        if confirmacao.lower() == 's' :\n",
    "            return nome_dado\n",
    "        elif confirmacao.lower() == 'n' :\n",
    "            print('Ok, vamos recomeçar.')\n",
    "        else :\n",
    "            print('Não compreendi... vamos reiniciar.')\n",
    "\n",
    "def pedir_idade() :\n",
    "    while True :\n",
    "        idade_dada = input('\\nQual sua idade? ')\n",
    "        print(f'Ok, sua idade é {idade_dada}. É isso mesmo? ')\n",
    "        confirmacao = input('\\nSe sim, digite (s). Se não, digite (n). ')\n",
    "        if confirmacao.lower() == 's' :\n",
    "            return idade_dada\n",
    "        elif confirmacao.lower() == 'n' :\n",
    "            print('Ok, vamos recomeçar.')\n",
    "        else :\n",
    "            print('Não compreendi... vamos reiniciar.')\n",
    "\n",
    "def pedir_email() :\n",
    "    while True :\n",
    "        email_dado = input('\\nQual seu email? ')\n",
    "        print(f'Ok, seu email é {email_dado}. É isso mesmo? ')\n",
    "        confirmacao = input('\\nSe sim, digite (s). Se não, digite (n). ')\n",
    "        if confirmacao.lower() == 's':\n",
    "            return email_dado\n",
    "        elif confirmacao.lower() == 'n' :\n",
    "            print('Ok, vamos recomeçar.')\n",
    "        else :\n",
    "            print('Não compreendi... vamos reiniciar.')\n",
    "\n",
    "# Criando as variáveis auxiliares\n",
    "dicio_cadastro = dict()\n",
    "\n",
    "while True :\n",
    "    # Mostrando as opções para usuário\n",
    "    print('\\nDentre as opções :')\n",
    "    print('**********************************')\n",
    "    print('1: cadastro de novo usuário ')\n",
    "    print('2: mostrar os usuários cadastrados')\n",
    "    print('3: fechar o programa')\n",
    "    print('4: buscar um CPF')\n",
    "    print('**********************************')\n",
    "\n",
    "    resposta = input('\\nPor favor, qual opção deseja? (1, 2, 3 ou 4) ')\n",
    "    if resposta == '1' :\n",
    "        cpf = pedir_cpf()\n",
    "        nome = pedir_nome()\n",
    "        idade = pedir_idade()\n",
    "        email = pedir_email()\n",
    "\n",
    "        dicio_cadastro[cpf] = {\n",
    "            'nome' : nome,\n",
    "            'idade' : idade,\n",
    "            'email' : email\n",
    "        }\n",
    "    elif resposta == '2' :\n",
    "        if dicio_cadastro == {} :\n",
    "            print('\\n*** Por favor, adicione algum usuário: a lista está vazia. ***')\n",
    "        else:\n",
    "            posicao = 1     # Ajudar no print\n",
    "            for cpf in dicio_cadastro :\n",
    "                print('\\nTemos na posição {} o cadastro do CPF número {}.'.format(posicao, cpf))\n",
    "                print('Cujo nome é {} e idade é {}.'.format(dicio_cadastro[cpf]['nome'], \\\n",
    "                    dicio_cadastro[cpf]['idade']))\n",
    "                print('E-mail de cadastro é {}.'.format(dicio_cadastro[cpf]['email']))\n",
    "                posicao = posicao + 1\n",
    "    elif resposta == '3' :\n",
    "        print('Fechando o programa!')\n",
    "        break\n",
    "    elif resposta == '4' :\n",
    "        busca = pedir_cpf()\n",
    "        if busca in dicio_cadastro :\n",
    "            print('\\nTemos cadastro do CPF número {}.'.format(busca))\n",
    "            print('Cujo nome é {} e idade é {}.'.format(dicio_cadastro[busca]['nome'], \\\n",
    "                dicio_cadastro[busca]['idade']))\n",
    "            print('E-mail de cadastro é {}.'.format(dicio_cadastro[busca]['email']))\n",
    "        else :\n",
    "            print('Não há registo do CPF {}.'.format(busca))\n",
    "    else :\n",
    "        print('\\n#######################################')\n",
    "        print('Por favor, digitar \"1\", \"2\" ou \"3\" ou \"4\": ')\n",
    "        print('#######################################')"
   ]
  },
  {
   "cell_type": "markdown",
   "id": "56d3465a",
   "metadata": {},
   "source": [
    "# Questão #15\n",
    "## Enunciado\n",
    "Faça o análogo do exercício 12 para strings: conte quantas vezes cada caracter apareceu nessa string e retorne um dicionário com essa contagem.\n",
    "\n"
   ]
  },
  {
   "cell_type": "code",
   "execution_count": 4,
   "id": "d5cf0e7b",
   "metadata": {},
   "outputs": [],
   "source": [
    "def contagem(um_string) :\n",
    "    dicio_aux = dict()\n",
    "    for chave in um_string :\n",
    "        chave = chave.lower()\n",
    "        if chave == ' ': continue\n",
    "        elif chave in dicio_aux :\n",
    "            dicio_aux[chave] = dicio_aux[chave] + 1\n",
    "        else :\n",
    "            dicio_aux[chave] = dicio_aux.get(chave, 1)\n",
    "    return dicio_aux"
   ]
  },
  {
   "cell_type": "code",
   "execution_count": 5,
   "id": "1fc8c63c",
   "metadata": {},
   "outputs": [
    {
     "name": "stdout",
     "output_type": "stream",
     "text": [
      "{'a': 2, 'm': 2, 'u': 4, 'l': 1, 'h': 1, 'e': 4, 'r': 3, 'd': 2, 'o': 3, 'p': 2, 'f': 2, 'z': 1, 'n': 2, '.': 1}\n"
     ]
    }
   ],
   "source": [
    "grub = contagem('A mulher do padre fez um furo no pneu.')\n",
    "print(grub)\n"
   ]
  },
  {
   "cell_type": "code",
   "execution_count": null,
   "id": "3d1fa8c9",
   "metadata": {},
   "outputs": [],
   "source": []
  }
 ],
 "metadata": {
  "kernelspec": {
   "display_name": "Python 3",
   "language": "python",
   "name": "python3"
  },
  "language_info": {
   "codemirror_mode": {
    "name": "ipython",
    "version": 3
   },
   "file_extension": ".py",
   "mimetype": "text/x-python",
   "name": "python",
   "nbconvert_exporter": "python",
   "pygments_lexer": "ipython3",
   "version": "3.8.8"
  }
 },
 "nbformat": 4,
 "nbformat_minor": 5
}

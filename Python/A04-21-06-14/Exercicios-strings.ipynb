{
 "cells": [
  {
   "cell_type": "markdown",
   "id": "e86898f4",
   "metadata": {},
   "source": [
    "# Questão #1\n",
    "## Enunciado\n",
    "Crie uma lista qualquer e faça um programa que imprima cada elemento da lista usando o for.\n",
    "\n"
   ]
  },
  {
   "cell_type": "code",
   "execution_count": 1,
   "id": "6250958a",
   "metadata": {},
   "outputs": [
    {
     "name": "stdout",
     "output_type": "stream",
     "text": [
      "0\n",
      "1\n",
      "2\n",
      "3\n",
      "4\n",
      "5\n",
      "6\n",
      "7\n",
      "8\n",
      "9\n",
      "10\n"
     ]
    }
   ],
   "source": [
    "nova_lista = list(range(10+1))\n",
    "for numero in nova_lista :\n",
    "    print(numero)"
   ]
  },
  {
   "cell_type": "markdown",
   "id": "97eebb7a",
   "metadata": {},
   "source": [
    "# Questão #2\n",
    "## Enunciado\n",
    "Faça um programa que imprima todos os itens de uma lista usando while e compare com o exercício 1.\n",
    "\n"
   ]
  },
  {
   "cell_type": "code",
   "execution_count": 2,
   "id": "21538310",
   "metadata": {},
   "outputs": [
    {
     "name": "stdout",
     "output_type": "stream",
     "text": [
      "0\n",
      "1\n",
      "2\n",
      "3\n",
      "4\n",
      "5\n",
      "6\n",
      "7\n",
      "8\n",
      "9\n",
      "10\n"
     ]
    }
   ],
   "source": [
    "nova_lista = list(range(10+1))\n",
    "contador = 0\n",
    "\n",
    "while contador < len(nova_lista) :\n",
    "    print(nova_lista[contador])\n",
    "    contador = contador + 1\n"
   ]
  },
  {
   "cell_type": "markdown",
   "id": "f50bf065",
   "metadata": {},
   "source": [
    "# Questão #3\n",
    "## Enunciado\n",
    "Faça um programa que peça para o usuário digitar um número n e imprima uma lista com todos os números de 0 a n-1.\n",
    "\n",
    "Exemplo: se o usuário digitar 5, o programa deve imprimir [0, 1, 2, 3, 4]\n",
    "\n"
   ]
  },
  {
   "cell_type": "code",
   "execution_count": 2,
   "id": "e403ab89",
   "metadata": {},
   "outputs": [
    {
     "name": "stdout",
     "output_type": "stream",
     "text": [
      "Por favor, digite um número inteiro: 5\n",
      "[0, 1, 2, 3, 4]\n",
      "0\n",
      "1\n",
      "2\n",
      "3\n",
      "4\n"
     ]
    }
   ],
   "source": [
    "numeros = int(input('Por favor, digite um número inteiro: '))\n",
    "\n",
    "nova_lista = list(range(numeros))\n",
    "print(nova_lista)\n",
    "for numero in nova_lista :\n",
    "    print(numero)"
   ]
  },
  {
   "cell_type": "markdown",
   "id": "e9a627eb",
   "metadata": {},
   "source": [
    "# Questão #4\n",
    "## Enunciado\n",
    "Faça um programa que olhe todos os itens de uma lista e diga quantos deles são pares.\n",
    "\n"
   ]
  },
  {
   "cell_type": "code",
   "execution_count": 5,
   "id": "95ce655c",
   "metadata": {},
   "outputs": [
    {
     "name": "stdout",
     "output_type": "stream",
     "text": [
      "2\n",
      "4\n",
      "6\n",
      "8\n",
      "Desta lista, 4 números são pares.\n"
     ]
    }
   ],
   "source": [
    "nova_lista = list(range(10))\n",
    "numeros_pares = 0\n",
    "for numero in nova_lista :\n",
    "    if numero == 0: continue\n",
    "    if numero % 2 == 0 :\n",
    "        print(numero)\n",
    "        numeros_pares = numeros_pares + 1\n",
    "print('Desta lista, {} números são pares.'.format(numeros_pares))\n"
   ]
  },
  {
   "cell_type": "markdown",
   "id": "89c0ebbc",
   "metadata": {},
   "source": [
    "# Questão #5\n",
    "## Enunciado\n",
    "Faça um programa que imprima o maior número de uma lista, sem usar a função max()."
   ]
  },
  {
   "cell_type": "code",
   "execution_count": 6,
   "id": "732e8bef",
   "metadata": {},
   "outputs": [
    {
     "name": "stdout",
     "output_type": "stream",
     "text": [
      "Desta lista, 9 é o maior valor.\n"
     ]
    }
   ],
   "source": [
    "nova_lista = list(range(10))\n",
    "maior_valor = nova_lista[0]\n",
    "\n",
    "for numero in nova_lista :\n",
    "    if numero > maior_valor :\n",
    "        maior_valor = numero\n",
    "print('Desta lista, {} é o maior valor.'.format(maior_valor))"
   ]
  },
  {
   "cell_type": "markdown",
   "id": "d5cfb4c6",
   "metadata": {},
   "source": [
    "# Questão #6\n",
    "## Enunciado\n",
    "Agora usando a função max() faça um programa que imprima os três maiores números de uma lista.\n",
    "\n",
    "Dica: Use o método próprio de listas .remove().\n",
    "\n"
   ]
  },
  {
   "cell_type": "code",
   "execution_count": 7,
   "id": "85c2c39f",
   "metadata": {},
   "outputs": [
    {
     "name": "stdout",
     "output_type": "stream",
     "text": [
      "Os maiores valores dentro desta lista serão: [9, 8, 7]\n"
     ]
    }
   ],
   "source": [
    "nova_lista = list(range(10))\n",
    "maiores = list()\n",
    "numero_vezes = 3\n",
    "contador = 0\n",
    "\n",
    "while contador < numero_vezes :\n",
    "    maior = max(nova_lista)\n",
    "    maiores.append(maior)\n",
    "    nova_lista.remove(maior)\n",
    "    contador = contador + 1\n",
    "\n",
    "print('Os maiores valores dentro desta lista serão:', maiores)"
   ]
  },
  {
   "cell_type": "code",
   "execution_count": 8,
   "id": "ba84e58e",
   "metadata": {},
   "outputs": [
    {
     "name": "stdout",
     "output_type": "stream",
     "text": [
      "Estes são os maiores valores: [9, 8, 7]\n"
     ]
    }
   ],
   "source": [
    "# Ouuuuuuuuuuuuuuuuu\n",
    "\n",
    "nova_lista = list(range(10))\n",
    "quantos_maiores = 3\n",
    "nova_lista.sort(reverse=True)\n",
    "print('Estes são os maiores valores:', nova_lista[:quantos_maiores])\n"
   ]
  },
  {
   "cell_type": "markdown",
   "id": "c5740eec",
   "metadata": {},
   "source": [
    "# Questão #7\n",
    "## Enunciado\n",
    "Faça um programa que, dadas duas listas de mesmo tamanho, crie uma nova lista com cada elemento igual a soma dos elementos da lista 1 com os da lista 2, na mesma posição.\n",
    "\n",
    "Exemplo:\n",
    "\n",
    "Dadas lista1 = [1, 4, 5] e lista2 = [2, 2, 3], então lista3 = [1+2, 4+2, 5+3] = [3, 6, 8]\n",
    "\n"
   ]
  },
  {
   "cell_type": "code",
   "execution_count": 9,
   "id": "ba69ca23",
   "metadata": {},
   "outputs": [
    {
     "name": "stdout",
     "output_type": "stream",
     "text": [
      "[3, 6, 8]\n"
     ]
    }
   ],
   "source": [
    "lista1 = [1, 4, 5]\n",
    "lista2 = [2, 2, 3]\n",
    "lista3 = list()\n",
    "contador = 0\n",
    "\n",
    "if len(lista1) == len(lista2) :\n",
    "    while contador < len(lista1) :\n",
    "        novo_dado = lista1[contador] + lista2[contador]\n",
    "        lista3.append(novo_dado)\n",
    "        contador = contador + 1\n",
    "print(lista3)"
   ]
  },
  {
   "cell_type": "markdown",
   "id": "b51ac31e",
   "metadata": {},
   "source": [
    "# Questão #8\n",
    "## Enunciado\n",
    "Faça um programa que dadas duas listas de mesmo tamanho, imprima o produto escalar entre elas.\n",
    "\n",
    "OBS: produto escalar é a soma do resultado da multiplicação entre o número na posição i da lista1 pelo número na posição i da lista2, com i variando de 0 ao tamanho da lista."
   ]
  },
  {
   "cell_type": "code",
   "execution_count": 10,
   "id": "46b831ea",
   "metadata": {},
   "outputs": [
    {
     "name": "stdout",
     "output_type": "stream",
     "text": [
      "25\n"
     ]
    }
   ],
   "source": [
    "lista1 = [1, 4, 5]\n",
    "lista2 = [2, 2, 3]\n",
    "lista3 = list()\n",
    "contador = 0\n",
    "\n",
    "if len(lista1) == len(lista2) :\n",
    "    while contador < len(lista1) :\n",
    "        novo_dado = lista1[contador] * lista2[contador]\n",
    "        lista3.append(novo_dado)\n",
    "        contador = contador + 1\n",
    "prod_esc = sum(lista3)\n",
    "print(prod_esc)"
   ]
  },
  {
   "cell_type": "markdown",
   "id": "44491f91",
   "metadata": {},
   "source": [
    "# Questão #9\n",
    "## Enunciado\n",
    "Faça um programa que pede para o usuário digitar 5 números e, ao final, imprime uma lista com os 5 números digitados pelo usuário (sem converter os números para int ou float).\n",
    "\n",
    "Exemplo: Se o usuário digitar 1, 5, 2, 3, 6, o programa deve imprimir a lista ['1','5','2','3','6']"
   ]
  },
  {
   "cell_type": "code",
   "execution_count": 11,
   "id": "e453208b",
   "metadata": {},
   "outputs": [
    {
     "name": "stdout",
     "output_type": "stream",
     "text": [
      "Por favor, insira um valor numérico: 1\n",
      "Por favor, insira um valor numérico: 2\n",
      "Por favor, insira um valor numérico: 3\n",
      "Por favor, insira um valor numérico: 4\n",
      "Por favor, insira um valor numérico: 5\n",
      "['1', '2', '3', '4', '5']\n"
     ]
    }
   ],
   "source": [
    "lista_num = list()\n",
    "tamanho_lista = 5\n",
    "contador = 0\n",
    "\n",
    "while contador < tamanho_lista :\n",
    "    dado = input('Por favor, insira um valor numérico: ')\n",
    "    lista_num.append(dado)\n",
    "    contador = contador + 1\n",
    "\n",
    "print(lista_num)"
   ]
  },
  {
   "cell_type": "markdown",
   "id": "2b0dbb62",
   "metadata": {},
   "source": [
    "# Questão #10\n",
    "## Enunciado\n",
    "Pegue a lista gerada no exercício anterior e transforme cada um dos itens dessa lista em um float.\n",
    "\n",
    "OBS: Não é para alterar o programa anterior, mas sim a lista gerada por ele."
   ]
  },
  {
   "cell_type": "code",
   "execution_count": 12,
   "id": "0ec9dc9a",
   "metadata": {},
   "outputs": [
    {
     "name": "stdout",
     "output_type": "stream",
     "text": [
      "Por favor, insira um valor numérico: 5.4\n",
      "Por favor, insira um valor numérico: 2\n",
      "Por favor, insira um valor numérico: -9.8\n",
      "Por favor, insira um valor numérico: 123\n",
      "Por favor, insira um valor numérico: 456\n",
      "[5.4, 2.0, -9.8, 123.0, 456.0]\n"
     ]
    }
   ],
   "source": [
    "lista_num = list()\n",
    "tamanho_lista = 5\n",
    "contador = 0\n",
    "\n",
    "while contador < tamanho_lista :\n",
    "    dado = input('Por favor, insira um valor numérico: ')\n",
    "    lista_num.append(dado)\n",
    "    contador = contador + 1\n",
    "\n",
    "contador = 0\n",
    "while contador < len(lista_num) :\n",
    "    lista_num[contador] = float(lista_num[contador])\n",
    "    contador = contador + 1\n",
    "\n",
    "print(lista_num)"
   ]
  },
  {
   "cell_type": "markdown",
   "id": "0e2701ca",
   "metadata": {},
   "source": [
    "# Questão #11\n",
    "## Enunciado\n",
    "Faça um programa que peça as 4 notas bimestrais e mostre a média aritmética delas, usando listas.\n",
    "\n"
   ]
  },
  {
   "cell_type": "code",
   "execution_count": 13,
   "id": "ebd270b4",
   "metadata": {},
   "outputs": [
    {
     "name": "stdout",
     "output_type": "stream",
     "text": [
      "Por favor, colocar a 1º nota bimestral: 5\n",
      "Por favor, colocar a 2º nota bimestral: 4\n",
      "Por favor, colocar a 3º nota bimestral: 7\n",
      "Por favor, colocar a 4º nota bimestral: 6\n",
      "A média do aluno é 5.5.\n"
     ]
    }
   ],
   "source": [
    "notas = list()\n",
    "\n",
    "for item in range(4) :\n",
    "    nota = float(input('Por favor, colocar a {}º nota bimestral: '.format(item+1)))\n",
    "    notas.append(nota)\n",
    "\n",
    "media = sum(notas) / len(notas)\n",
    "print('A média do aluno é {}.'.format(media))"
   ]
  },
  {
   "cell_type": "markdown",
   "id": "8c61ce87",
   "metadata": {},
   "source": [
    "# Questão #12\n",
    "## Enunciado\n",
    "Sorteie uma lista de 10 números e imprima:\n",
    "\n",
    "a. uma lista com os 4 primeiros números;\n",
    "\n",
    "b. uma lista com os 5 últimos números;\n",
    "\n",
    "c. uma lista contendo apenas os elementos das posições pares;\n",
    "\n",
    "d. uma lista contendo apenas os elementos das posições ímpares;\n",
    "\n",
    "e. a lista inversa da lista sorteada (isto é, uma lista que começa com o último elemento da lista sorteada e termina com o primeiro);\n",
    "\n",
    "f. uma lista inversa dos 5 primeiros números;\n",
    "\n",
    "g. uma lista inversa dos 5 últimos números."
   ]
  },
  {
   "cell_type": "code",
   "execution_count": 14,
   "id": "6d07d160",
   "metadata": {},
   "outputs": [
    {
     "name": "stdout",
     "output_type": "stream",
     "text": [
      "[88, 32, 99, 34, 68, 80, 34, 26, 36, 69]\n",
      "\n",
      "Lista com os 4 primeiros números: [88, 32, 99, 34]\n",
      "\n",
      "Lista com os 5 últimos números: [80, 34, 26, 36, 69]\n",
      "\n",
      "Lista contendo apenas os elementos das posições pares: [32, 34, 80, 26, 69]\n",
      "\n",
      "Lista contendo apenas os elementos das posições ímpares: [88, 99, 68, 34, 36]\n",
      "\n",
      "Lista inversa da lista sorteada: [69, 36, 26, 34, 80, 68, 34, 99, 32, 88]\n",
      "\n",
      "Lista inversa dos 5 primeiros números: [68, 34, 99, 32, 88]\n",
      "\n",
      "Lista inversa dos 5 últimos números: [69, 36, 26, 34, 80]\n"
     ]
    }
   ],
   "source": [
    "import random\n",
    "\n",
    "# Criação de uma lista pseudo-aleatória!\n",
    "lista_base = list()\n",
    "for numero in range(10) :\n",
    "    lista_base.append(random.randint(0, 100))\n",
    "print(lista_base)\n",
    "\n",
    "# a. uma lista com os 4 primeiros números\n",
    "print('\\nLista com os 4 primeiros números:', lista_base[:4])\n",
    "\n",
    "# b. uma lista com os 5 últimos números;\n",
    "print('\\nLista com os 5 últimos números:', lista_base[len(lista_base)-5:])\n",
    "\n",
    "# c. uma lista contendo apenas os elementos das posições pares;\n",
    "print('\\nLista contendo apenas os elementos das posições pares:', lista_base[1::2])\n",
    "\n",
    "# d. uma lista contendo apenas os elementos das posições ímpares;\n",
    "print('\\nLista contendo apenas os elementos das posições ímpares:', lista_base[::2])\n",
    "\n",
    "# e. a lista inversa da lista sorteada (isto é, uma lista que começa com o último\n",
    "#  elemento da lista sorteada e termina com o primeiro);\n",
    "print('\\nLista inversa da lista sorteada:', lista_base[::-1])\n",
    "\n",
    "# f. uma lista inversa dos 5 primeiros números;\n",
    "lista_f = lista_base[:5]\n",
    "print('\\nLista inversa dos 5 primeiros números:', lista_f[::-1])\n",
    "\n",
    "# g. uma lista inversa dos 5 últimos números.\n",
    "lista_g = lista_base[5:]\n",
    "print('\\nLista inversa dos 5 últimos números:', lista_g[::-1])"
   ]
  },
  {
   "cell_type": "markdown",
   "id": "01cb9045",
   "metadata": {},
   "source": [
    "# Questão #13\n",
    "## Enunciado\n",
    "Faça um programa que sorteia 10 números entre 0 e 100 e conte quantos números sorteados são maiores que 50."
   ]
  },
  {
   "cell_type": "code",
   "execution_count": 15,
   "id": "4277c5eb",
   "metadata": {},
   "outputs": [
    {
     "name": "stdout",
     "output_type": "stream",
     "text": [
      "[5, 37, 1, 85, 71, 47, 89, 60, 0, 27]\n",
      "\n",
      "Na lista acima, teremos 4 números que são maior que 50!\n"
     ]
    }
   ],
   "source": [
    "import random\n",
    "\n",
    "# Criação de uma lista pseudo-aleatória!\n",
    "lista_base = list()\n",
    "for numero in range(10) :\n",
    "    lista_base.append(random.randint(0, 100))\n",
    "print(lista_base)\n",
    "\n",
    "contador = 0\n",
    "for numero in lista_base :\n",
    "    if numero > 50 :\n",
    "        contador = contador + 1\n",
    "\n",
    "print('\\nNa lista acima, teremos {} números que são maior que 50!'.format(contador))"
   ]
  },
  {
   "cell_type": "markdown",
   "id": "4dc07407",
   "metadata": {},
   "source": [
    "# Questão #14\n",
    "## Enunciado\n",
    "Faça um programa que sorteie 10 números entre 0 e 100 e imprima:\n",
    "\n",
    "a. o maior número sorteado;\n",
    "\n",
    "b. o menor número sorteado;\n",
    "\n",
    "c. a média dos números sorteados;\n",
    "\n",
    "d. a soma dos números sorteados."
   ]
  },
  {
   "cell_type": "code",
   "execution_count": 16,
   "id": "fec6669d",
   "metadata": {},
   "outputs": [
    {
     "name": "stdout",
     "output_type": "stream",
     "text": [
      "[93, 98, 20, 18, 75, 46, 36, 75, 10, 91]\n",
      "\n",
      "O maior número sorteado é 98\n",
      "\n",
      "O menor número sorteado é 10\n",
      "\n",
      "A média dos números sorteados é 56.2\n",
      "\n",
      "A soma dos números sorteados é 562\n"
     ]
    }
   ],
   "source": [
    "import random\n",
    "from statistics import mean\n",
    "\n",
    "\n",
    "# Criação de uma lista pseudo-aleatória!\n",
    "lista_base = list()\n",
    "for numero in range(10) :\n",
    "    lista_base.append(random.randint(0, 100))\n",
    "print(lista_base)\n",
    "\n",
    "# a. o maior número sorteado;\n",
    "print('\\nO maior número sorteado é', max(lista_base))\n",
    "# b. o menor número sorteado;\n",
    "print('\\nO menor número sorteado é', min(lista_base))\n",
    "# c. a média dos números sorteados;\n",
    "print('\\nA média dos números sorteados é', mean(lista_base))\n",
    "# d. a soma dos números sorteados.\n",
    "print('\\nA soma dos números sorteados é', sum(lista_base))"
   ]
  },
  {
   "cell_type": "markdown",
   "id": "33aad4df",
   "metadata": {},
   "source": [
    "# Questão #15\n",
    "## Enunciado\n",
    "Desafio 1 - Faça um programa que peça para o usuário digitar o nome e a idade de um aluno e o número de provas que esse aluno fez. Depois, o programa deve pedir para o usuário digitar as notas de cada prova do aluno. Ao final o programa deve imprimir uma lista contendo:\n",
    "\n",
    "a. Nome do aluno na posição 0;\n",
    "\n",
    "b. Idade do aluno na posição 1;\n",
    "\n",
    "c. Uma lista com todas as notas na posição 2;\n",
    "\n",
    "d. A média do aluno na posição 3;\n",
    "\n",
    "e. True ou False, caso a média seja maior que 5 ou não, na posição 4.\n",
    "\n",
    "Dica: Use o que você fez nos exercícios anteriores para criar esse programa.\n",
    "\n"
   ]
  },
  {
   "cell_type": "code",
   "execution_count": 17,
   "id": "43a7915d",
   "metadata": {},
   "outputs": [
    {
     "name": "stdout",
     "output_type": "stream",
     "text": [
      "Por favor, qual o nome do aluno? Joel\n",
      "Por favor, qual a idade de Joel? 12\n",
      "Por favor, qual o número de provas que Joel fez? 4\n",
      "Por favor, colocar a 1º nota: 5\n",
      "Por favor, colocar a 2º nota: 5\n",
      "Por favor, colocar a 3º nota: 6\n",
      "Por favor, colocar a 4º nota: 5\n",
      "\n",
      "Nome do aluno é Joel.\n",
      "\n",
      "Idade de Joel é 12.\n",
      "\n",
      "Notas de Joel são [5.0, 5.0, 6.0, 5.0].\n",
      "\n",
      "Média de Joel é 5.25.\n",
      "\n",
      "Joel passou de ano? True.\n"
     ]
    }
   ],
   "source": [
    "dados_aluno = list()\n",
    "# Inserindo posição 0\n",
    "nome = input('Por favor, qual o nome do aluno? ')\n",
    "dados_aluno.append(nome)\n",
    "# Inserindo posição 1\n",
    "idade = input('Por favor, qual a idade de {}? '.format(nome))\n",
    "dados_aluno.append(idade)\n",
    "# Inserindo posição 2\n",
    "provas = int(input('Por favor, qual o número de provas que {} fez? '.format(nome)))\n",
    "notas = list()\n",
    "\n",
    "for item in range(provas) :\n",
    "    nota = float(input('Por favor, colocar a {}º nota: '.format(item+1)))\n",
    "    notas.append(nota)\n",
    "dados_aluno.append(notas)\n",
    "# Inserindo posição 3\n",
    "media = sum(notas) / len(notas)\n",
    "dados_aluno.append(media)\n",
    "# Inserindo posição 4\n",
    "if media > 5 :\n",
    "    passou = True\n",
    "else :\n",
    "    passou = False\n",
    "dados_aluno.append(passou)\n",
    "\n",
    "# a. Nome do aluno na posição 0;\n",
    "print('\\nNome do aluno é {}.'.format(dados_aluno[0]))\n",
    "# b. Idade do aluno na posição 1;\n",
    "print('\\nIdade de {} é {}.'.format(dados_aluno[0], dados_aluno[1]))\n",
    "# c. Uma lista com todas as notas na posição 2;\n",
    "print('\\nNotas de {} são {}.'.format(dados_aluno[0], dados_aluno[2]))\n",
    "# d. A média do aluno na posição 3;\n",
    "print('\\nMédia de {} é {}.'.format(dados_aluno[0], dados_aluno[3]))\n",
    "# e. True ou False, caso a média seja maior que 5 ou não, na posição 4.\n",
    "print('\\n{} passou de ano? {}.'.format(dados_aluno[0], dados_aluno[4]))"
   ]
  },
  {
   "cell_type": "markdown",
   "id": "6fc1fe51",
   "metadata": {},
   "source": [
    "# Questão #16\n",
    "## Enunciado\n",
    "Desafio 2 - Faça um programa como o do item anterior, porém que imprima a média sem considerar a maior e menor nota do aluno (nesse caso o número de provas precisa ser obrigatoriamente maior que dois).\n",
    "\n",
    "Dica: crie uma cópia com a lista de todas as notas antes de fazer a média.\n",
    "\n"
   ]
  },
  {
   "cell_type": "code",
   "execution_count": 18,
   "id": "e9ee7ce5",
   "metadata": {},
   "outputs": [
    {
     "name": "stdout",
     "output_type": "stream",
     "text": [
      "Por favor, qual o nome do aluno? Joel\n",
      "Por favor, qual a idade de Joel? 12\n",
      "Por favor, qual o número de provas que Joel fez? (maior que 3) 3\n",
      "Por favor, colocar a 1º nota: 6\n",
      "Por favor, colocar a 2º nota: 7\n",
      "Por favor, colocar a 3º nota: 10\n",
      "\n",
      "Nome do aluno é Joel.\n",
      "\n",
      "Idade de Joel é 12.\n",
      "\n",
      "Notas de Joel são [6.0, 7.0, 10.0].\n",
      "\n",
      "Média de Joel é 7.0.\n",
      "\n",
      "Joel passou de ano? True.\n"
     ]
    }
   ],
   "source": [
    "dados_aluno = list()\n",
    "# Inserindo posição 0\n",
    "nome = input('Por favor, qual o nome do aluno? ')\n",
    "dados_aluno.append(nome)\n",
    "# Inserindo posição 1\n",
    "idade = input('Por favor, qual a idade de {}? '.format(nome))\n",
    "dados_aluno.append(idade)\n",
    "# Inserindo posição 2\n",
    "provas = int(input('Por favor, qual o número de provas que {} fez? (maior que 3) '.format(nome)))\n",
    "if provas < 3 :\n",
    "    while provas < 3 :\n",
    "        provas = int(input('Inserir um valor de número de provas maior que 3. '))\n",
    "notas = list()\n",
    "\n",
    "for item in range(provas) :\n",
    "    nota = float(input('Por favor, colocar a {}º nota: '.format(item+1)))\n",
    "    notas.append(nota)\n",
    "dados_aluno.append(notas)\n",
    "\n",
    "# Retirando os valores mínimos e máximos\n",
    "notas_modificada = notas[:]\n",
    "notas_modificada.sort()\n",
    "notas_modificada.pop(), notas_modificada.pop(0)\n",
    "\n",
    "# Inserindo posição 3\n",
    "media = sum(notas_modificada) / len(notas_modificada)\n",
    "dados_aluno.append(media)\n",
    "# Inserindo posição 4\n",
    "if media > 5 :\n",
    "    passou = True\n",
    "else :\n",
    "    passou = False\n",
    "dados_aluno.append(passou)\n",
    "\n",
    "# a. Nome do aluno na posição 0;\n",
    "print('\\nNome do aluno é {}.'.format(dados_aluno[0]))\n",
    "# b. Idade do aluno na posição 1;\n",
    "print('\\nIdade de {} é {}.'.format(dados_aluno[0], dados_aluno[1]))\n",
    "# c. Uma lista com todas as notas na posição 2;\n",
    "print('\\nNotas de {} são {}.'.format(dados_aluno[0], dados_aluno[2]))\n",
    "# d. A média do aluno na posição 3;\n",
    "print('\\nMédia de {} é {}.'.format(dados_aluno[0], dados_aluno[3]))\n",
    "# e. True ou False, caso a média seja maior que 5 ou não, na posição 4.\n",
    "print('\\n{} passou de ano? {}.'.format(dados_aluno[0], dados_aluno[4]))"
   ]
  },
  {
   "cell_type": "markdown",
   "id": "33428658",
   "metadata": {},
   "source": [
    "# Questão #17\n",
    "## Enunciado\n",
    "Desafio 3 - Faça um programa que pede para o usuário digitar o CPF e verifica se ele é válido. Para isso, primeiramente o programa deve multiplicar cada um dos 9 primeiros dígitos do CPF pelos números de 10 a 2 e somar todas as respostas. O resultado deve ser multiplicado por 10 e dividido por 11. O resto dessa divisão deve ser igual ao primeiro dígito verificador (10º dígito). Em seguida, o programa deve multiplicar cada um dos 10 primeiros dígitos do CPF pelos números de 11 a 2 e repetir o procedimento anterior para verificar o segundo dígito verificador.\n",
    "\n",
    "Exemplo:\n",
    "\n",
    "Se o CPF for 286.255.878-87 o programa deve fazer primeiro:\n",
    "\n",
    "x = (2*10 + 8*9 + 6*8 + 2*7 + 5*6 + 5*5 + 8*4 + 7*3 + 8*2)\n",
    "\n",
    "Em seguida, o programa deve testar se x*10%11 == 8 (o décimo número do CPF). Se sim, o programa deve calcular:\n",
    "\n",
    "x = (2*11 + 8*10 + 6*9 + 2*8 + 5*7 + 5*6 + 8*5 + 7*4 + 8*3 + 8*2)\n",
    "\n",
    "e verificar se x*10%11 == 7 (o décimo primeiro número do CPF).\n",
    "\n"
   ]
  },
  {
   "cell_type": "code",
   "execution_count": 1,
   "id": "7ba57d2a",
   "metadata": {},
   "outputs": [
    {
     "name": "stdout",
     "output_type": "stream",
     "text": [
      "Por favor, insira o número do seu CPF: (só os números) 22449654810\n",
      "Confirmado primeiro teste!\n",
      "[22, 20, 36, 32, 63, 36, 25, 16, 24, 2]\n",
      "276\n",
      "Confirmado segundo teste!\n"
     ]
    }
   ],
   "source": [
    "num_cpf = input('Por favor, insira o número do seu CPF: (só os números) ')\n",
    "\n",
    "while len(num_cpf) != 11:\n",
    "    num_cpf = input('O CPF possui 11 números. Favor inserir novamente: (só os números) ')\n",
    "\n",
    "lista_cpf = list()\n",
    "for numero in num_cpf :\n",
    "    lista_cpf.append(int(numero))\n",
    "\n",
    "# Primeiro teste:\n",
    "multiplicador = 10\n",
    "teste1 = list()\n",
    "for numero in lista_cpf :\n",
    "    teste1.append(numero * multiplicador)\n",
    "    multiplicador = multiplicador - 1\n",
    "# Retirar os últimos 2 valores do CPF que foram inclusos\n",
    "teste1.pop(), teste1.pop()\n",
    "teste1a = ((sum(teste1)*10) % 11)\n",
    "# Verificação com décimo dígito\n",
    "if teste1a == lista_cpf[-2] :\n",
    "    print('Confirmado primeiro teste!')\n",
    "else :\n",
    "    print('CPF não válido')\n",
    "    quit()\n",
    "\n",
    "# Segundo teste:\n",
    "multiplicador = 11\n",
    "teste2 = list()\n",
    "for numero in lista_cpf :\n",
    "    teste2.append(numero * multiplicador)\n",
    "    multiplicador = multiplicador - 1\n",
    "# Retirar os últimos 2 valores do CPF que foram inclusos\n",
    "teste2.pop()\n",
    "print(teste2)\n",
    "print(sum(teste2))\n",
    "teste2a = 11 -((sum(teste2)) % 11)\n",
    "# Verificação com décimo dígito\n",
    "if teste2a == lista_cpf[-1] or teste2a >= 10 :\n",
    "    print('Confirmado segundo teste!')\n",
    "else :\n",
    "    print('CPF não válido')\n",
    "    quit()\n"
   ]
  },
  {
   "cell_type": "code",
   "execution_count": null,
   "id": "7618490e",
   "metadata": {},
   "outputs": [],
   "source": []
  }
 ],
 "metadata": {
  "kernelspec": {
   "display_name": "Python 3",
   "language": "python",
   "name": "python3"
  },
  "language_info": {
   "codemirror_mode": {
    "name": "ipython",
    "version": 3
   },
   "file_extension": ".py",
   "mimetype": "text/x-python",
   "name": "python",
   "nbconvert_exporter": "python",
   "pygments_lexer": "ipython3",
   "version": "3.8.8"
  }
 },
 "nbformat": 4,
 "nbformat_minor": 5
}
